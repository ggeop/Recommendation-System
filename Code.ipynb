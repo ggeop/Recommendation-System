{
 "cells": [
  {
   "cell_type": "markdown",
   "metadata": {},
   "source": [
    "# Recommendation System"
   ]
  },
  {
   "cell_type": "code",
   "execution_count": 6,
   "metadata": {},
   "outputs": [],
   "source": [
    "#Libraries\n",
    "import pandas as pd\n",
    "import numpy as np\n",
    "from random import *"
   ]
  },
  {
   "cell_type": "markdown",
   "metadata": {},
   "source": [
    "Also we would like to mention that we prefered not to use the networkx library and create the recommendation methods with the standard python libraries. \n",
    "We know that networkx library could be a quicker implementation but we prefered to practice deeper on how the algorithms work.\n",
    "\n",
    "Note:\n",
    "In this file, the metadata are stored."
   ]
  },
  {
   "cell_type": "markdown",
   "metadata": {},
   "source": [
    "###  Datasets"
   ]
  },
  {
   "cell_type": "markdown",
   "metadata": {},
   "source": [
    "#### Original Dataset"
   ]
  },
  {
   "cell_type": "code",
   "execution_count": 7,
   "metadata": {},
   "outputs": [],
   "source": [
    "#Load the dataset\n",
    "data=pd.read_csv(\"facebook_combined.txt\",sep=\" \", header=None)\n",
    "\n",
    "#Add column names\n",
    "data.columns = [\"node1\", \"node2\"]"
   ]
  },
  {
   "cell_type": "markdown",
   "metadata": {},
   "source": [
    "#### Original dataset transformation"
   ]
  },
  {
   "cell_type": "code",
   "execution_count": 8,
   "metadata": {},
   "outputs": [],
   "source": [
    "#Transform the graph to undirected\n",
    "data2=pd.concat([data.node2,data.node1], axis=1)\n",
    "\n",
    "#Rename the columns in order to merge the columns\n",
    "data2.columns= [\"node1\", \"node2\"]\n",
    "data=data.append(data2)\n",
    "\n",
    "#Reset indexes\n",
    "data = data.reset_index(drop=True)"
   ]
  },
  {
   "cell_type": "markdown",
   "metadata": {},
   "source": [
    "#### Small test dataset"
   ]
  },
  {
   "cell_type": "code",
   "execution_count": 9,
   "metadata": {},
   "outputs": [],
   "source": [
    "#Create a sample graph dataset\n",
    "test_data = pd.DataFrame([[5, 2], \n",
    "                       [9, 3],\n",
    "                       [9, 11],\n",
    "                       [3, 6],\n",
    "                       [4, 6],\n",
    "                       [5, 7],\n",
    "                       [1, 11],\n",
    "                       [6, 2],\n",
    "                       [7, 9],\n",
    "                       [8, 9],\n",
    "                       [5, 11],\n",
    "                       [6, 7],\n",
    "                       [6, 11],\n",
    "                       [7, 6],\n",
    "                       [2, 11],\n",
    "                       [11,2],\n",
    "                       [2, 5],\n",
    "                       [2, 7],\n",
    "                       [7, 2]],\n",
    "                      columns=[\"node1\", \"node2\"])"
   ]
  },
  {
   "cell_type": "markdown",
   "metadata": {},
   "source": [
    "#### Test dataset friendships"
   ]
  },
  {
   "cell_type": "code",
   "execution_count": 10,
   "metadata": {},
   "outputs": [
    {
     "name": "stdout",
     "output_type": "stream",
     "text": [
      "{1: [11], 2: [11, 5, 7], 3: [6], 4: [6], 5: [2, 7, 11], 6: [2, 7, 11], 7: [9, 6, 2], 8: [9], 9: [3, 11], 11: [2]}\n"
     ]
    }
   ],
   "source": [
    "# Take a look to the friendships  of test dataset\n",
    "friendships={}\n",
    "#Create friendships dict\n",
    "for node in [1,2,3,4,5,6,7,8,9,11]:\n",
    "    #Create a list with the friends of node\n",
    "    ls=test_data[test_data.node1 == node]['node2'].tolist()\n",
    "\n",
    "    #Create a dictionary with key the node and value the list\n",
    "    friendships[node]=ls\n",
    "    \n",
    "print(friendships) "
   ]
  },
  {
   "cell_type": "markdown",
   "metadata": {},
   "source": [
    "## Recommendation Methods"
   ]
  },
  {
   "cell_type": "markdown",
   "metadata": {},
   "source": [
    "#### Recommending friends using Common neighbors (friend-of-friend (FoF) method)"
   ]
  },
  {
   "cell_type": "code",
   "execution_count": 87,
   "metadata": {},
   "outputs": [],
   "source": [
    "##### Create the function for Common neighbors\n",
    "\n",
    "def friendOfFriendScore(users, dataset, target):\n",
    "    #Initialize\n",
    "    l=list()\n",
    "    friendships={}\n",
    "\n",
    "    #Create friendships dict\n",
    "    for node in users:\n",
    "        #Create a list with the friends of node\n",
    "        ls=dataset[dataset.node1 == node]['node2'].tolist()\n",
    "\n",
    "        #Create a dictionary with key the node and value the list\n",
    "        friendships[node]=ls\n",
    "\n",
    "    # Initialize a dictionary with the intersections\n",
    "    inter={}\n",
    "\n",
    "    #Intersection between users\n",
    "    for j in friendships:\n",
    "        if (target != j) and (target not in friendships[j]) :\n",
    "            intersection=(len(set(friendships.get(target)).intersection(set(friendships.get(j)))))\n",
    "            \n",
    "            #Keep intersection into a list\n",
    "            inter[j]=intersection\n",
    "\n",
    "    #Create a sorted list, in ties we take the smallest ID\n",
    "    #We create tuples(id, score)\n",
    "    lis=sorted(inter.items(), key=lambda value: value[1], reverse=True)\n",
    "    \n",
    "\n",
    "    #Final Result with only 10 elements\n",
    "    return([(tup[0],round(tup[1],3)) for tup in lis[0:10]]);"
   ]
  },
  {
   "cell_type": "code",
   "execution_count": 88,
   "metadata": {},
   "outputs": [
    {
     "data": {
      "text/plain": [
       "[(6, 3), (1, 1), (7, 1), (9, 1), (11, 1), (3, 0), (4, 0), (8, 0), (10, 0)]"
      ]
     },
     "execution_count": 88,
     "metadata": {},
     "output_type": "execute_result"
    }
   ],
   "source": [
    "##### Test the code for the Sample\n",
    "users=[1,2,3,4,5,6,7,8,9,10,11]\n",
    "friendOfFriendScore(users, test_data, 5)"
   ]
  },
  {
   "cell_type": "code",
   "execution_count": 33,
   "metadata": {},
   "outputs": [
    {
     "name": "stdout",
     "output_type": "stream",
     "text": [
      "The suggestions of 107 are: [(513, 19), (400, 18), (559, 18), (373, 17), (492, 17), (500, 17), (378, 16), (436, 16), (431, 15), (514, 15)]\n",
      "\n",
      "The suggestions of 1126 are: [(916, 113), (1238, 103), (1750, 99), (1230, 98), (1004, 94), (1791, 94), (1530, 90), (1172, 89), (1570, 85), (1597, 84)]\n",
      "\n",
      "The suggestions of 14 are: [(2, 9), (17, 9), (140, 9), (111, 8), (137, 7), (162, 7), (19, 6), (333, 6), (44, 5), (243, 4)]\n",
      "\n",
      "The suggestions of 35 are: [(46, 2), (68, 2), (99, 2), (131, 2), (175, 2), (177, 2), (225, 2), (227, 2), (278, 2), (321, 2)]\n"
     ]
    }
   ],
   "source": [
    "##### Test the code for the Original Dataset\n",
    "users=list(range(0,4038))\n",
    "\n",
    "#The output is a list with tuples (id, score)\n",
    "print(\"The suggestions of 107 are:\", friendOfFriendScore(users, data,107))\n",
    "print(\"\\nThe suggestions of 1126 are:\", friendOfFriendScore(users, data,1126))\n",
    "print(\"\\nThe suggestions of 14 are:\", friendOfFriendScore(users, data,14))\n",
    "print(\"\\nThe suggestions of 35 are:\", friendOfFriendScore(users, data,35))"
   ]
  },
  {
   "cell_type": "markdown",
   "metadata": {},
   "source": [
    "###  Recommending friends using Jaccard coefficient"
   ]
  },
  {
   "cell_type": "code",
   "execution_count": 78,
   "metadata": {},
   "outputs": [],
   "source": [
    "##### Create the function for Common neighbors using Jaccard coefficient\n",
    "\n",
    "def JaccardCoefficientScore(users, dataset, target):\n",
    "    #Initialize\n",
    "    l=list()\n",
    "    friendships={}\n",
    "\n",
    "    #Create friendships dict\n",
    "    for node in users:\n",
    "        #Create a list with the friends of node\n",
    "        ls=dataset[dataset.node1 == node]['node2'].tolist()\n",
    "\n",
    "        #Create a dictionary with key the node and value the list\n",
    "        friendships[node]=ls\n",
    "\n",
    "    # Initialize a dictionary with the intersections\n",
    "    inter={}\n",
    "\n",
    "    #Intersection between users\n",
    "    for j in friendships:\n",
    "        if (target != j) and (target not in friendships[j]) :\n",
    "            \n",
    "            # Create union\n",
    "            union=len(set(friendships.get(target)).union(set(friendships.get(j))))\n",
    "            \n",
    "            # Check for No zero denominator\n",
    "            if (union != 0) :\n",
    "                inter[j]=len(set(friendships.get(target)).intersection(set(friendships.get(j))))/union\n",
    "\n",
    "    #Create a sorted list, in ties we take the smallest ID\n",
    "    #We create tuples(id, score)\n",
    "    lis=sorted(inter.items(), key=lambda value: value[1], reverse=True)\n",
    "\n",
    "    #Final Result\n",
    "    return([(tup[0],round(tup[1],3)) for tup in lis[0:10]]);"
   ]
  },
  {
   "cell_type": "code",
   "execution_count": 79,
   "metadata": {},
   "outputs": [
    {
     "data": {
      "text/plain": [
       "[(6, 1.0),\n",
       " (1, 0.333),\n",
       " (11, 0.333),\n",
       " (9, 0.25),\n",
       " (7, 0.2),\n",
       " (3, 0.0),\n",
       " (4, 0.0),\n",
       " (8, 0.0),\n",
       " (10, 0.0)]"
      ]
     },
     "execution_count": 79,
     "metadata": {},
     "output_type": "execute_result"
    }
   ],
   "source": [
    "##### Test the code for the Sample\n",
    "users=[1,2,3,4,5,6,7,8,9,10,11]\n",
    "JaccardCoefficientScore(users, test_data, 5)"
   ]
  },
  {
   "cell_type": "code",
   "execution_count": 80,
   "metadata": {},
   "outputs": [
    {
     "name": "stdout",
     "output_type": "stream",
     "text": [
      "The suggestions of 107 are: [(513, 0.017), (400, 0.016), (559, 0.016), (492, 0.016), (500, 0.015), (373, 0.015), (436, 0.015), (378, 0.015), (515, 0.014), (514, 0.014)]\n",
      "\n",
      "The suggestions of 1126 are: [(916, 0.487), (1750, 0.44), (1230, 0.436), (1530, 0.423), (1004, 0.42), (1238, 0.417), (1172, 0.401), (1791, 0.4), (1789, 0.374), (1597, 0.372)]\n",
      "\n",
      "The suggestions of 14 are: [(2, 0.562), (140, 0.529), (17, 0.474), (162, 0.438), (111, 0.381), (333, 0.353), (44, 0.312), (137, 0.292), (19, 0.24), (243, 0.211)]\n",
      "\n",
      "The suggestions of 35 are: [(321, 0.667), (11, 0.5), (12, 0.5), (15, 0.5), (18, 0.5), (37, 0.5), (43, 0.5), (74, 0.5), (114, 0.5), (209, 0.5)]\n"
     ]
    }
   ],
   "source": [
    "##### Test the code for the Original Dataset\n",
    "users=list(range(0,4038))\n",
    "\n",
    "print(\"The suggestions of 107 are:\", JaccardCoefficientScore(users, data,107))\n",
    "print(\"\\nThe suggestions of 1126 are:\", JaccardCoefficientScore(users, data,1126))\n",
    "print(\"\\nThe suggestions of 14 are:\", JaccardCoefficientScore(users, data,14))\n",
    "print(\"\\nThe suggestions of 35 are:\", JaccardCoefficientScore(users, data,35))"
   ]
  },
  {
   "cell_type": "markdown",
   "metadata": {},
   "source": [
    "### Recommending friends using Adamic and Adar function"
   ]
  },
  {
   "cell_type": "code",
   "execution_count": 81,
   "metadata": {},
   "outputs": [],
   "source": [
    "def AdamicAdarFunctionScore(users, dataset, target):\n",
    "    #Initialize\n",
    "    l=list()\n",
    "    friendships={}\n",
    "\n",
    "    #Create friendships dict\n",
    "    for node in users:\n",
    "        #Create a list with the friends of node\n",
    "        ls=dataset[dataset.node1 == node]['node2'].tolist()\n",
    "\n",
    "        #Create a dictionary with key the node and value the list\n",
    "        friendships[node]=ls\n",
    "\n",
    "    # Initialize a dictionary with the intersections\n",
    "    inter={}\n",
    "\n",
    "    #Intersection between users\n",
    "    for j in friendships:\n",
    "        if (target != j) and (target not in friendships[j]) :\n",
    "            intersection = set(friendships.get(target)).intersection(set(friendships.get(j)))\n",
    "\n",
    "            # Adamic and Adar score calculation\n",
    "            sum = 0\n",
    "            for k in intersection :\n",
    "                if (k in friendships.keys()) and (friendships[k] != []) and len(friendships[k]) != 1:\n",
    "                    sum = sum+1/np.log(len(friendships[k]))\n",
    "\n",
    "            inter[j]=sum\n",
    "   \n",
    "    #Create a sorted list, in ties we take the smallest ID\n",
    "    lis=sorted(inter.items(), key=lambda value: value[1], reverse=True)\n",
    "\n",
    "    #Final Result\n",
    "    return([(tup[0],round(tup[1],3)) for tup in lis[0:10]]);"
   ]
  },
  {
   "cell_type": "code",
   "execution_count": 82,
   "metadata": {},
   "outputs": [
    {
     "data": {
      "text/plain": [
       "[(6, 1.82),\n",
       " (7, 0.91),\n",
       " (11, 0.91),\n",
       " (1, 0),\n",
       " (3, 0),\n",
       " (4, 0),\n",
       " (8, 0),\n",
       " (9, 0),\n",
       " (10, 0)]"
      ]
     },
     "execution_count": 82,
     "metadata": {},
     "output_type": "execute_result"
    }
   ],
   "source": [
    "##### Test the code for the Sample\n",
    "users=[1,2,3,4,5,6,7,8,9,10,11]\n",
    "AdamicAdarFunctionScore(users, test_data, 5)"
   ]
  },
  {
   "cell_type": "code",
   "execution_count": 83,
   "metadata": {},
   "outputs": [
    {
     "name": "stdout",
     "output_type": "stream",
     "text": [
      "The suggestions of 107 are: [(513, 4.223), (400, 4.042), (559, 3.83), (500, 3.704), (492, 3.637), (373, 3.634), (378, 3.41), (436, 3.393), (524, 3.232), (514, 3.23)]\n",
      "\n",
      "The suggestions of 1126 are: [(916, 23.259), (1238, 21.173), (1750, 20.193), (1230, 19.896), (1004, 19.127), (1791, 19.091), (1530, 18.157), (1172, 18.058), (1570, 17.375), (1597, 17.001)]\n",
      "\n",
      "The suggestions of 14 are: [(2, 2.972), (17, 2.926), (140, 2.926), (111, 2.59), (162, 2.265), (137, 2.203), (333, 1.997), (19, 1.82), (44, 1.508), (243, 1.182)]\n",
      "\n",
      "The suggestions of 35 are: [(46, 0.573), (68, 0.573), (99, 0.573), (131, 0.573), (175, 0.573), (177, 0.573), (225, 0.573), (227, 0.573), (278, 0.573), (321, 0.573)]\n"
     ]
    }
   ],
   "source": [
    "##### Test the code for the Original Dataset\n",
    "users=list(range(0,4038))\n",
    "\n",
    "print(\"The suggestions of 107 are:\",AdamicAdarFunctionScore(users,data,107))\n",
    "print(\"\\nThe suggestions of 1126 are:\",AdamicAdarFunctionScore(users,data,1126))\n",
    "print(\"\\nThe suggestions of 14 are:\",AdamicAdarFunctionScore(users,data,14))\n",
    "print(\"\\nThe suggestions of 35 are:\",AdamicAdarFunctionScore(users,data,35))"
   ]
  },
  {
   "cell_type": "markdown",
   "metadata": {},
   "source": [
    "### Recommending Friends with Leicht-Holme-Newman Index (bonus method)"
   ]
  },
  {
   "cell_type": "code",
   "execution_count": 84,
   "metadata": {},
   "outputs": [],
   "source": [
    "##### Create the function for Leicht Holme Newman method\n",
    "def LeichtHolmeNewmanScore(users, dataset, target):\n",
    "    #Initialize\n",
    "    l=list()\n",
    "    friendships={}\n",
    "\n",
    "    #Create friendships dict\n",
    "    for node in users:\n",
    "        #Create a list with the friends of node\n",
    "        ls=dataset[dataset.node1 == node]['node2'].tolist()\n",
    "\n",
    "        #Create a dictionary with key the node and value the list\n",
    "        friendships[node]=ls\n",
    "\n",
    "    # Initialize a dictionary with the intersections\n",
    "    inter={}\n",
    "\n",
    "    #Intersection between users\n",
    "    for j in friendships:\n",
    "        if (target != j) and (target not in friendships[j]) :\n",
    "            intersection=(len(set(friendships.get(target)).intersection(set(friendships.get(j)))))\n",
    "            \n",
    "            #Calculate the k for j and target\n",
    "            k1=len(friendships.get(j))\n",
    "            k2=len(friendships.get(target))\n",
    "            \n",
    "            if (k1 !=0 and k2 !=0):\n",
    "                #Store the intersection in the list inter[]\n",
    "                inter[j]=intersection/(k1*k2)\n",
    "   \n",
    "    #Create a sorted list, in ties we take the smallest ID\n",
    "    lis=sorted(inter.items(), key=lambda value: value[1], reverse=True)\n",
    "\n",
    "    #Final Result\n",
    "    return([(tup[0],round(tup[1],3)) for tup in lis[0:10]]);"
   ]
  },
  {
   "cell_type": "code",
   "execution_count": 85,
   "metadata": {},
   "outputs": [
    {
     "data": {
      "text/plain": [
       "[(1, 0.333),\n",
       " (6, 0.333),\n",
       " (11, 0.333),\n",
       " (9, 0.167),\n",
       " (7, 0.111),\n",
       " (3, 0.0),\n",
       " (4, 0.0),\n",
       " (8, 0.0)]"
      ]
     },
     "execution_count": 85,
     "metadata": {},
     "output_type": "execute_result"
    }
   ],
   "source": [
    "##### Test the code for the Sample\n",
    "users=[1,2,3,4,5,6,7,8,9,10,11]\n",
    "LeichtHolmeNewmanScore(users, test_data, 5)"
   ]
  },
  {
   "cell_type": "code",
   "execution_count": 86,
   "metadata": {},
   "outputs": [
    {
     "name": "stdout",
     "output_type": "stream",
     "text": [
      "The suggestions of 107 are: [(11, 0.001), (12, 0.001), (15, 0.001), (18, 0.001), (37, 0.001), (43, 0.001), (74, 0.001), (114, 0.001), (209, 0.001), (210, 0.001)]\n",
      "\n",
      "The suggestions of 1126 are: [(911, 0.005), (918, 0.005), (1096, 0.005), (1119, 0.005), (1145, 0.005), (1206, 0.005), (1262, 0.005), (1386, 0.005), (1395, 0.005), (1466, 0.005)]\n",
      "\n",
      "The suggestions of 14 are: [(11, 0.067), (12, 0.067), (15, 0.067), (18, 0.067), (37, 0.067), (43, 0.067), (74, 0.067), (114, 0.067), (209, 0.067), (210, 0.067)]\n",
      "\n",
      "The suggestions of 35 are: [(11, 0.5), (12, 0.5), (15, 0.5), (18, 0.5), (37, 0.5), (43, 0.5), (74, 0.5), (114, 0.5), (209, 0.5), (210, 0.5)]\n"
     ]
    }
   ],
   "source": [
    "##### Test the code for the Original Dataset\n",
    "users=list(range(0,4038))\n",
    "print(\"The suggestions of 107 are:\",LeichtHolmeNewmanScore(users, data,107))\n",
    "print(\"\\nThe suggestions of 1126 are:\",LeichtHolmeNewmanScore(users, data,1126))\n",
    "print(\"\\nThe suggestions of 14 are:\",LeichtHolmeNewmanScore(users, data,14))\n",
    "print(\"\\nThe suggestions of 35 are:\",LeichtHolmeNewmanScore(users, data,35))"
   ]
  },
  {
   "cell_type": "markdown",
   "metadata": {},
   "source": [
    "## Evaluation of the recommendation system"
   ]
  },
  {
   "cell_type": "markdown",
   "metadata": {},
   "source": [
    "### Algorithms Similarity"
   ]
  },
  {
   "cell_type": "code",
   "execution_count": 18,
   "metadata": {},
   "outputs": [
    {
     "name": "stdout",
     "output_type": "stream",
     "text": [
      "The average similarity of FoF & Jaccard is: 55.5 %\n",
      "The average similarity of FoF & Adamic Adar is: 90.75 %\n",
      "The average similarity of Adamic Adar & Jaccard is: 57.0 %\n"
     ]
    }
   ],
   "source": [
    "# Create users list\n",
    "users=list(range(0,4038))\n",
    "\n",
    "#Initialization\n",
    "s1=[]\n",
    "s2=[]\n",
    "s3=[]\n",
    "\n",
    "for i in list(range(100,4100,100)):\n",
    "    \n",
    "    #Run the functions\n",
    "    fofList=friendOfFriendScore(users, data,i)\n",
    "    JaccardList=JaccardCoefficientScore(users, data,i)\n",
    "    AdamicAdarList=AdamicAdarFunctionScore(users, data,i)\n",
    "    \n",
    "    #Similarity Percentage of FoF and Jaccard\n",
    "    s1.append(len(set(fofList).intersection(set(JaccardList)))*10)\n",
    "    \n",
    "    #Similarity Percentage of FoF and Adamic and Adar\n",
    "    s2.append(len(set(fofList).intersection(set(AdamicAdarList)))*10)\n",
    "    \n",
    "    #Similarity Percentage of Jaccard and Adamic and Adar\n",
    "    s3.append(len(set(AdamicAdarList).intersection(set(JaccardList)))*10)\n",
    "\n",
    "#Average Similarity (%)\n",
    "print(\"The average similarity of FoF & Jaccard is:\",np.mean(s1),\"%\")\n",
    "print(\"The average similarity of FoF & Adamic Adar is:\",np.mean(s2),\"%\")\n",
    "print(\"The average similarity of Adamic Adar & Jaccard is:\",np.mean(s3),\"%\")"
   ]
  },
  {
   "cell_type": "markdown",
   "metadata": {},
   "source": [
    "### Forecast Recommendations"
   ]
  },
  {
   "cell_type": "markdown",
   "metadata": {},
   "source": [
    "#### Evaluation Function\n",
    "In this stage we have to estimate the quality of the recommendation methods. We create a function(evaluationFunction()) which computes the strength of the connection between two nodes. In more details, we insert two already friends of our network and the function removes this connection from the dataset. After the connection drops, the algorythm searches for every method if one of the two nodes (ex. F1) exists in the list of the second node (ex. F2). We do the same process in both F1 and F2. Also, we would like to mention if a node doesn't exist in the recommendation list of the other node we exclude this relationship.\n",
    "\n",
    "#### Calculation Score \n",
    "The score for each algorythm is calculated according to the position of the list.\n",
    "Also, we take the average value of the position for both F1 and F2. The higher the score is, the higher the quality of the algorythm.\n"
   ]
  },
  {
   "cell_type": "markdown",
   "metadata": {},
   "source": [
    "#### Create the functions for each method "
   ]
  },
  {
   "cell_type": "markdown",
   "metadata": {},
   "source": [
    "We create again the functions for each method but with the difference that these functions returns only a 10 element list with ids (without the id scores)"
   ]
  },
  {
   "cell_type": "code",
   "execution_count": 45,
   "metadata": {},
   "outputs": [],
   "source": [
    "##### Create the function for Common neighbors\n",
    "def friendOfFriend(users, dataset, target):\n",
    "    #Initialize\n",
    "    l=list()\n",
    "    friendships={}\n",
    "\n",
    "    #Create friendships dict\n",
    "    for node in users:\n",
    "        #Create a list with the friends of node\n",
    "        ls=dataset[dataset.node1 == node]['node2'].tolist()\n",
    "\n",
    "        #Create a dictionary with key the node and value the list\n",
    "        friendships[node]=ls\n",
    "\n",
    "    # Initialize a dictionary with the intersections\n",
    "    inter={}\n",
    "\n",
    "    #Intersection between users\n",
    "    for j in friendships:\n",
    "        if (target != j) and (target not in friendships[j]) :\n",
    "            intersection=(len(set(friendships.get(target)).intersection(set(friendships.get(j)))))\n",
    "            \n",
    "            #Keep intersection into a list\n",
    "            inter[j]=intersection\n",
    "   \n",
    "    #Create a sorted list, in ties we take the smallest ID\n",
    "    lis=sorted(inter, key=inter.get, reverse=True)\n",
    "\n",
    "    #Final Result\n",
    "    return(lis[0:10]);\n",
    "\n",
    "##### Create the function for Common neighbors using Jaccard coefficient\n",
    "def JaccardCoefficient(users, dataset, target):\n",
    "    #Initialize\n",
    "    l=list()\n",
    "    friendships={}\n",
    "\n",
    "    #Create friendships dict\n",
    "    for node in users:\n",
    "        #Create a list with the friends of node\n",
    "        ls=dataset[dataset.node1 == node]['node2'].tolist()\n",
    "\n",
    "        #Create a dictionary with key the node and value the list\n",
    "        friendships[node]=ls\n",
    "\n",
    "    # Initialize a dictionary with the intersections\n",
    "    inter={}\n",
    "\n",
    "    #Intersection between users\n",
    "    for j in friendships:\n",
    "        if (target != j) and (target not in friendships[j]) :\n",
    "            \n",
    "            # Create union\n",
    "            union=len(set(friendships.get(target)).union(set(friendships.get(j))))\n",
    "            \n",
    "            # Check for No zero denominator\n",
    "            if (union != 0) :\n",
    "                inter[j]=len(set(friendships.get(target)).intersection(set(friendships.get(j))))/union\n",
    "\n",
    "    #Create a sorted list, in ties we take the smallest ID\n",
    "    lis=sorted(inter, key=inter.get, reverse=True)\n",
    "\n",
    "    #Final Result\n",
    "    return(lis[0:10]);\n",
    "\n",
    "##### Create the function for Common neighbors using Adamic Adar Method\n",
    "def AdamicAdarFunction(users, dataset, target):\n",
    "    #Initialize\n",
    "    l=list()\n",
    "    friendships={}\n",
    "\n",
    "    #Create friendships dict\n",
    "    for node in users:\n",
    "        #Create a list with the friends of node\n",
    "        ls=dataset[dataset.node1 == node]['node2'].tolist()\n",
    "\n",
    "        #Create a dictionary with key the node and value the list\n",
    "        friendships[node]=ls\n",
    "\n",
    "    # Initialize a dictionary with the intersections\n",
    "    inter={}\n",
    "\n",
    "    #Intersection between users\n",
    "    for j in friendships:\n",
    "        if (target != j) and (target not in friendships[j]) :\n",
    "            intersection = set(friendships.get(target)).intersection(set(friendships.get(j)))\n",
    "\n",
    "            # Adamic and Adar score calculation\n",
    "            sum = 0\n",
    "            for k in intersection :\n",
    "                if (k in friendships.keys()) and (friendships[k] != []) and len(friendships[k]) != 1:\n",
    "                    sum = sum+1/np.log(len(friendships[k]))\n",
    "\n",
    "            inter[j]=sum\n",
    "   \n",
    "    #Create a sorted list, in ties we take the smallest ID\n",
    "    lis=sorted(inter, key=inter.get, reverse=True)\n",
    "\n",
    "    #Final Result\n",
    "    return(lis[0:10]);"
   ]
  },
  {
   "cell_type": "markdown",
   "metadata": {},
   "source": [
    "#### Create the evaluation function"
   ]
  },
  {
   "cell_type": "code",
   "execution_count": 17,
   "metadata": {},
   "outputs": [],
   "source": [
    "def evaluationFunction(dataset,users,F1,F2):\n",
    "\n",
    "    ####Remove the relationship\n",
    "    \n",
    "    #First we find the connection F1-F2\n",
    "    l1=dataset[dataset.node2 == F1].index\n",
    "    l2=dataset[dataset.node1 == F2 ].index\n",
    "    rm1=set(l1).intersection(set(l2))\n",
    "    \n",
    "    #Then we find the connection F2-F1\n",
    "    l1=dataset[dataset.node2 == F2 ].index\n",
    "    l2=dataset[dataset.node1 == F1].index\n",
    "    rm2=set(l1).intersection(set(l2))\n",
    "\n",
    "    #We create the union\n",
    "    rm=rm1.union(rm2)\n",
    "    \n",
    "    #Remove the elements of the set rm\n",
    "    for i in rm:\n",
    "        dataset=dataset.drop(i)\n",
    "    \n",
    "    ###FoF (friend-of-friend)\n",
    "    list1=friendOfFriend(users, dataset,F2)\n",
    "    list2=friendOfFriend(users, dataset,F1)\n",
    "    \n",
    "    if (F1 in list1) and (F2 in list2): \n",
    "        \n",
    "        #Compute the recommendations for F1\n",
    "        Friend1=10 - list2.index(F2)\n",
    "\n",
    "        #Compute the resommentdations for F2\n",
    "        Friend2=10 - list1.index(F1)\n",
    "\n",
    "\n",
    "        ####Compute the score\n",
    "        scoreFoF=(Friend1+Friend2)/2\n",
    "        \n",
    "    else:\n",
    "        return(None);\n",
    "    \n",
    "    ###Jaccard\n",
    "    list1=JaccardCoefficient(users, dataset,F2)\n",
    "    list2=JaccardCoefficient(users, dataset,F1)\n",
    "\n",
    "    if (F1 in list1) and (F2 in list2): \n",
    "        \n",
    "        #Compute the recommendations for F1\n",
    "        Friend1=10 - list2.index(F2)\n",
    "\n",
    "        #Compute the resommentdations for F2\n",
    "        Friend2=10 - list1.index(F1)\n",
    "\n",
    "        ####Check if either of these does not exist\n",
    "\n",
    "        ####Compute the score\n",
    "        scoreJaccard=(Friend1+Friend2)/2\n",
    "        \n",
    "    else:\n",
    "        return(None);\n",
    "    \n",
    "    ###AdamicAdar\n",
    "    list1=AdamicAdarFunction(users, dataset,F2)\n",
    "    list2=AdamicAdarFunction(users, dataset,F1)\n",
    "    \n",
    "    if (F1 in list1) and (F2 in list2):\n",
    "        \n",
    "        #Compute the recommendations for F1\n",
    "        Friend1=10 - AdamicAdarFunction(users, dataset,F1).index(F2)\n",
    "\n",
    "        #Compute the resommentdations for F2\n",
    "        Friend2=10 - AdamicAdarFunction(users, dataset,F2).index(F1)\n",
    "\n",
    "        ####Check if either of these does not exist\n",
    "\n",
    "        ####Compute the score\n",
    "        scoreAdamicAdar=(Friend1+Friend2)/2\n",
    "        \n",
    "    else:\n",
    "        return(None); \n",
    "          \n",
    " \n",
    "    return(scoreFoF,scoreJaccard,scoreAdamicAdar);"
   ]
  },
  {
   "cell_type": "markdown",
   "metadata": {},
   "source": [
    "#### Iteration Function\n",
    "\n",
    "In order to have more accurate results we should run the algorythm more than once. So, we create the algorythm (finalscore()) in order to recall the evaluation function many times. Speciffically, this function takes a random index from the original dataset. After we call the evaluation function in order to create a score for each relationship; the outputs of the evaluation function are stored in a list. Finally, after all that loops, we calculate the average score for each method."
   ]
  },
  {
   "cell_type": "code",
   "execution_count": 25,
   "metadata": {},
   "outputs": [],
   "source": [
    "#Function for iterations\n",
    "def finalScore(dataset,users, n):\n",
    "    eval_scores=[]\n",
    "    i=1\n",
    "    while i <=n:\n",
    "        \n",
    "        #Random F1-F2 Relationship\n",
    "        index=sample(range(0,4038),1)[0]\n",
    "        friend1=dataset.iloc[index].node1\n",
    "        friend2=dataset.iloc[index].node2\n",
    "        \n",
    "        evaluationOutput=evaluationFunction(dataset,users,friend1,friend2)\n",
    "        \n",
    "        if (evaluationOutput!= None):\n",
    "            eval_scores.append(evaluationFunction(dataset,users,friend1,friend2))\n",
    "            i += 1\n",
    "        \n",
    "    #Final Score\n",
    "    if eval_scores != [] :\n",
    "        scores=eval_scores      \n",
    "        \n",
    "    return(scores);       "
   ]
  },
  {
   "cell_type": "code",
   "execution_count": 28,
   "metadata": {},
   "outputs": [
    {
     "name": "stdout",
     "output_type": "stream",
     "text": [
      "    FoF_Score  Jaccard_Score  Adamic_Adar_Score\n",
      "0        10.0           10.0               10.0\n",
      "1         4.5            6.5                5.0\n",
      "2         8.5            8.0                8.5\n",
      "3        10.0           10.0               10.0\n",
      "4        10.0            6.5               10.0\n",
      "5         9.5            8.0                9.5\n",
      "6        10.0            9.5               10.0\n",
      "7         9.0            9.5                9.0\n",
      "8         7.0            5.0                7.0\n",
      "9         9.5            9.5                9.5\n",
      "10        9.5            9.0                9.5\n",
      "11        4.5            7.5                8.0\n",
      "12       10.0           10.0               10.0\n",
      "13       10.0           10.0               10.0\n",
      "14        9.5            9.5                9.5\n",
      "15        7.0            4.0                6.5\n",
      "16       10.0           10.0               10.0\n",
      "17       10.0            9.5               10.0\n",
      "18        8.0            7.0                8.0\n",
      "19        7.0            6.5                7.0\n",
      "20        9.0           10.0               10.0\n",
      "21       10.0           10.0               10.0\n",
      "22        9.5            9.5                9.5\n",
      "23        7.5            9.5                8.0\n",
      "24        9.0            5.5                8.5\n",
      "25        9.5           10.0                9.5\n",
      "26       10.0           10.0               10.0\n",
      "27       10.0           10.0               10.0\n",
      "28        8.5            9.0                8.5\n",
      "29        8.5            6.0                8.5\n",
      "..        ...            ...                ...\n",
      "70        9.5            9.0                9.5\n",
      "71        9.5            6.0                9.0\n",
      "72        9.5            9.0               10.0\n",
      "73        8.0            9.0                8.0\n",
      "74       10.0           10.0               10.0\n",
      "75        9.5            9.5               10.0\n",
      "76       10.0           10.0               10.0\n",
      "77       10.0           10.0               10.0\n",
      "78       10.0           10.0               10.0\n",
      "79       10.0           10.0               10.0\n",
      "80       10.0           10.0               10.0\n",
      "81        8.0            9.5                8.5\n",
      "82        9.0           10.0                9.5\n",
      "83        9.5           10.0                9.5\n",
      "84        9.0            9.5                9.0\n",
      "85       10.0            9.5               10.0\n",
      "86        7.5            6.0                7.5\n",
      "87        9.5           10.0                9.5\n",
      "88       10.0           10.0               10.0\n",
      "89       10.0           10.0               10.0\n",
      "90        8.0            7.5                7.5\n",
      "91       10.0           10.0               10.0\n",
      "92       10.0            9.5               10.0\n",
      "93        9.5            9.5                9.5\n",
      "94       10.0           10.0               10.0\n",
      "95       10.0           10.0               10.0\n",
      "96       10.0            9.5                9.5\n",
      "97        7.0            9.5                6.5\n",
      "98        9.0           10.0                9.5\n",
      "99        6.5           10.0                9.0\n",
      "\n",
      "[100 rows x 3 columns]\n",
      "Wall time: 0 ns\n"
     ]
    }
   ],
   "source": [
    "users=list(range(0,4038))\n",
    "\n",
    "#We create a variable in order to call once the function and then print the scores\n",
    "score=finalScore(data,users,100)\n",
    "\n",
    "#Create a score table\n",
    "score_table=pd.DataFrame(score)\n",
    "\n",
    "#Add column names\n",
    "score_table.columns = [\"FoF_Score\", \"Jaccard_Score\", \"Adamic_Adar_Score\"]\n",
    "\n",
    "# Final Print\n",
    "print(score_table)"
   ]
  },
  {
   "cell_type": "markdown",
   "metadata": {},
   "source": [
    "### Average Score"
   ]
  },
  {
   "cell_type": "code",
   "execution_count": 29,
   "metadata": {},
   "outputs": [
    {
     "name": "stdout",
     "output_type": "stream",
     "text": [
      "FoF score is:  9.025 /10\n",
      "Jaccard score is:  8.78 /10\n",
      "Adamic Adar score is:  9.085 /10\n"
     ]
    }
   ],
   "source": [
    "#Calculate the average Score\n",
    "score1=score_table.FoF_Score.mean()\n",
    "score2=score_table.Jaccard_Score.mean()\n",
    "score3=score_table.Adamic_Adar_Score.mean()\n",
    "\n",
    "#Final output\n",
    "#The higher score is better because we have substracted the list position from 10\n",
    "print(\"FoF score is: \", score1,\"/10\")\n",
    "print(\"Jaccard score is: \", score2,\"/10\")\n",
    "print(\"Adamic Adar score is: \", score3,\"/10\")"
   ]
  },
  {
   "cell_type": "markdown",
   "metadata": {},
   "source": [
    "#### Comment the Output Score"
   ]
  },
  {
   "cell_type": "markdown",
   "metadata": {},
   "source": [
    "As we can see the scoring of all functions is very close to each other but idependent of how many times we run the algorythm the sorting of the scores is the same. In other words, the Adamic Adar method has the higher score in all times, after Friend of Friend(FoF) method and after we have Jaccard method. In our view FoF method is a more generalized method that has decent results, if we take into consideration the calculation time. On the other hand the Adamic Adar method penalizes more the users that have a lot of friends than users that have less friends. This techique can better describes social network connections, and can have better results because is much closer on how people make a friend in a social network. The Jaccard distance is the less accurate metric for a reccomendation application."
   ]
  },
  {
   "cell_type": "markdown",
   "metadata": {},
   "source": [
    "## 2nd Evaluation System"
   ]
  },
  {
   "cell_type": "markdown",
   "metadata": {},
   "source": [
    "We crete an alternative evaluation system in order to incease the accuracy.Specifficaly, we take a target node and we remove one by one all the friends of him. Hence, we calculate the number of the friends that suggested and then we divide it with the total initial number of friends. This computations are hard intensive, so we do this procedure for 2-3 different targets."
   ]
  },
  {
   "cell_type": "code",
   "execution_count": 128,
   "metadata": {},
   "outputs": [],
   "source": [
    "#Function for iterations\n",
    "def finalScore2(dataset,users, n):\n",
    "    \n",
    "    eval_scores=[]\n",
    "    \n",
    "    #Create friendships dict\n",
    "    friendships={}\n",
    "    for node in users:\n",
    "        #Create a list with the friends of node\n",
    "        ls=dataset[dataset.node1 == node]['node2'].tolist()\n",
    "\n",
    "        #Create a dictionary with key the node and value the list\n",
    "        friendships[node]=ls\n",
    "\n",
    "    for l in list(range(0,n)):\n",
    "        \n",
    "        target=sample(users,1)[0] #take 1 random user\n",
    "        \n",
    "        #Initialize the scores\n",
    "        scorefof = 0\n",
    "        scoreJaccard = 0\n",
    "        scoreAdamicAdar = 0\n",
    "        friends=[]\n",
    "        \n",
    "        for i in friendships.get(target):\n",
    "            friends.append([target,i])\n",
    "            \n",
    "        for i in friends:\n",
    "            evaluationOutput=evaluationFunction(dataset,users,i[0],i[1])\n",
    "\n",
    "            if (evaluationOutput!= None):\n",
    "                if evaluationOutput[0]!= 0:\n",
    "                    scorefof +=1\n",
    "                if evaluationOutput[1]!= 0:\n",
    "                    scoreJaccard +=1\n",
    "                if evaluationOutput[2]!= 0:    \n",
    "                    scoreAdamicAdar +=1\n",
    "        \n",
    "        if len(friends) !=0 :\n",
    "            eval_scores.append([scorefof/len(friends),scoreJaccard/len(friends),scoreAdamicAdar/len(friends)])\n",
    "            \n",
    "        #Final Print\n",
    "        if eval_scores != [] :\n",
    "            #Calculate the average value\n",
    "            scores=np.mean(eval_scores,axis=0)\n",
    "        \n",
    "        \n",
    "    return([round(scores[0],3),round(scores[1],3),round(scores[2],3)]);  "
   ]
  },
  {
   "cell_type": "markdown",
   "metadata": {},
   "source": [
    "#### Final Score"
   ]
  },
  {
   "cell_type": "code",
   "execution_count": 132,
   "metadata": {},
   "outputs": [
    {
     "name": "stdout",
     "output_type": "stream",
     "text": [
      "FoF score is:  0.892 /10\n",
      "Jaccard score is:  0.824 /10\n",
      "Adamic Adar score is:  0.882 /10\n"
     ]
    }
   ],
   "source": [
    "#We create a variable in order to call once the function and then print the scores\n",
    "score2=finalScore2(data,users,2)\n",
    "\n",
    "print(\"FoF score is: \", score2[0],\"/10\")\n",
    "print(\"Jaccard score is: \", score2[1],\"/10\")\n",
    "print(\"Adamic Adar score is: \", score2[2],\"/10\")"
   ]
  }
 ],
 "metadata": {
  "kernelspec": {
   "display_name": "Python 3",
   "language": "python",
   "name": "python3"
  },
  "language_info": {
   "codemirror_mode": {
    "name": "ipython",
    "version": 3
   },
   "file_extension": ".py",
   "mimetype": "text/x-python",
   "name": "python",
   "nbconvert_exporter": "python",
   "pygments_lexer": "ipython3",
   "version": "3.6.4"
  }
 },
 "nbformat": 4,
 "nbformat_minor": 2
}
