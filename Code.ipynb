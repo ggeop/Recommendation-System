{
 "cells": [
  {
   "cell_type": "markdown",
   "metadata": {},
   "source": [
    "# Recommendation System"
   ]
  },
  {
   "cell_type": "code",
   "execution_count": 1,
   "metadata": {},
   "outputs": [],
   "source": [
    "#Libraries\n",
    "import pandas as pd\n",
    "import numpy as np"
   ]
  },
  {
   "cell_type": "code",
   "execution_count": 2,
   "metadata": {},
   "outputs": [],
   "source": [
    "#Load the dataset\n",
    "data=pd.read_csv(\"facebook_combined.txt\",sep=\" \", header=None)\n",
    "\n",
    "#Add column names\n",
    "data.columns = [\"node1\", \"node2\"]"
   ]
  },
  {
   "cell_type": "code",
   "execution_count": 3,
   "metadata": {},
   "outputs": [],
   "source": [
    "#Transform the graph to undirected\n",
    "data2=pd.concat([data.node2,data.node1], axis=1)\n",
    "\n",
    "#Rename the columns in order to merge the columns\n",
    "data2.columns= [\"node1\", \"node2\"]\n",
    "data=data.append(data2)"
   ]
  },
  {
   "cell_type": "markdown",
   "metadata": {},
   "source": [
    "#### Recommending friends using Common neighbors (friend-of-friend (FoF) method)"
   ]
  },
  {
   "cell_type": "code",
   "execution_count": 75,
   "metadata": {},
   "outputs": [],
   "source": [
    "##### Create the function for Common neighbors\n",
    "\n",
    "def friendOfFriend(users, dataset, target):\n",
    "    #Initialize\n",
    "    l=list()\n",
    "    friendships={}\n",
    "\n",
    "    #Create friendships dict\n",
    "    for node in users:\n",
    "        #Create a list with the friends of node\n",
    "        ls=dataset[dataset.node1 == node]['node2'].tolist()\n",
    "\n",
    "        #Create a dictionary with key the node and value the list\n",
    "        friendships[node]=ls\n",
    "\n",
    "    # Initialize a dictionary with the intersections\n",
    "    inter={}\n",
    "\n",
    "    #Intersection between users\n",
    "    for j in friendships:\n",
    "        if (target != j) and (target not in friendships[j]) :\n",
    "            intersection=(len(set(friendships.get(target)).intersection(set(friendships.get(j)))))\n",
    "            #print(intersection)\n",
    "            inter[j]=intersection\n",
    "   \n",
    "    #Create a sorted list, in ties we take the smallest ID\n",
    "    lis=sorted(inter, key=inter.get, reverse=True)\n",
    "\n",
    "    #Final Result\n",
    "    return(lis[0:10]);\n",
    "    "
   ]
  },
  {
   "cell_type": "code",
   "execution_count": 76,
   "metadata": {},
   "outputs": [
    {
     "data": {
      "text/plain": [
       "[6, 1, 9, 3, 4, 7, 8, 10, 11]"
      ]
     },
     "execution_count": 76,
     "metadata": {},
     "output_type": "execute_result"
    }
   ],
   "source": [
    "##### Test the code for the Sample\n",
    "users=[1,2,3,4,5,6,7,8,9,10,11]\n",
    "friendOfFriend(users, sample,5)"
   ]
  },
  {
   "cell_type": "code",
   "execution_count": 105,
   "metadata": {},
   "outputs": [
    {
     "data": {
      "text/plain": [
       "[67, 122, 186, 315, 25, 26, 272, 285, 332, 21]"
      ]
     },
     "execution_count": 105,
     "metadata": {},
     "output_type": "execute_result"
    }
   ],
   "source": [
    "##### Test the code for the Original Dataset\n",
    "users=list(range(0,4038))\n",
    "friendOfFriend(users, data,30)"
   ]
  },
  {
   "cell_type": "markdown",
   "metadata": {},
   "source": [
    "###  Recommending friends using Jaccard coefficient"
   ]
  },
  {
   "cell_type": "code",
   "execution_count": 119,
   "metadata": {},
   "outputs": [],
   "source": [
    "##### Create the function for Common neighbors using Jaccard coefficient\n",
    "\n",
    "def JaccardCoefficient(users, dataset, target):\n",
    "    #Initialize\n",
    "    l=list()\n",
    "    friendships={}\n",
    "\n",
    "    #Create friendships dict\n",
    "    for node in users:\n",
    "        #Create a list with the friends of node\n",
    "        ls=dataset[dataset.node1 == node]['node2'].tolist()\n",
    "\n",
    "        #Create a dictionary with key the node and value the list\n",
    "        friendships[node]=ls\n",
    "\n",
    "    # Initialize a dictionary with the intersections\n",
    "    inter={}\n",
    "\n",
    "    #Intersection between users\n",
    "    for j in friendships:\n",
    "        if (target != j) and (target not in friendships[j]) :\n",
    "            # Create union\n",
    "            union=len(set(friendships.get(target)).union(set(friendships.get(j))))\n",
    "            # Check for No zero denominator\n",
    "            if (union != 0) :\n",
    "                inter[j]=len(set(friendships.get(target)).intersection(set(friendships.get(j))))/union\n",
    "\n",
    "    #Create a sorted list, in ties we take the smallest ID\n",
    "    lis=sorted(inter, key=inter.get, reverse=True)\n",
    "\n",
    "    #Final Result\n",
    "    return(lis[0:10]);\n",
    "    "
   ]
  },
  {
   "cell_type": "code",
   "execution_count": 120,
   "metadata": {},
   "outputs": [
    {
     "data": {
      "text/plain": [
       "[6, 1, 11, 9, 3, 4, 7, 8, 10]"
      ]
     },
     "execution_count": 120,
     "metadata": {},
     "output_type": "execute_result"
    }
   ],
   "source": [
    "##### Test the code for the Sample\n",
    "users=[1,2,3,4,5,6,7,8,9,10,11]\n",
    "JaccardCoefficient(users, sample,5)"
   ]
  },
  {
   "cell_type": "code",
   "execution_count": 121,
   "metadata": {},
   "outputs": [
    {
     "data": {
      "text/plain": [
       "[276, 75, 88, 341, 133, 186, 297, 130, 79, 126]"
      ]
     },
     "execution_count": 121,
     "metadata": {},
     "output_type": "execute_result"
    }
   ],
   "source": [
    "##### Test the code for the Original Dataset\n",
    "users=list(range(0,4038))\n",
    "JaccardCoefficient(users, data,30)"
   ]
  },
  {
   "cell_type": "markdown",
   "metadata": {},
   "source": [
    "### Recommending friends using Adamic and Adar function"
   ]
  },
  {
   "cell_type": "code",
   "execution_count": 94,
   "metadata": {},
   "outputs": [],
   "source": [
    "def AdamicAdarFunction(users, dataset, target):\n",
    "    #Initialize\n",
    "    l=list()\n",
    "    friendships={}\n",
    "\n",
    "    #Create friendships dict\n",
    "    for node in users:\n",
    "        #Create a list with the friends of node\n",
    "        ls=dataset[dataset.node1 == node]['node2'].tolist()\n",
    "\n",
    "        #Create a dictionary with key the node and value the list\n",
    "        friendships[node]=ls\n",
    "\n",
    "    # Initialize a dictionary with the intersections\n",
    "    inter={}\n",
    "\n",
    "    #Intersection between users\n",
    "    for j in friendships:\n",
    "        if (target != j) and (target not in friendships[j]) :\n",
    "            intersection = set(friendships.get(target)).intersection(set(friendships.get(j)))\n",
    "\n",
    "            # Adamic and Adar score calculation\n",
    "            sum = 0\n",
    "            for k in intersection :\n",
    "                if ( k in friendships.keys()) and (friendships[k] != []):\n",
    "                    sum = sum+np.log(len(friendships[k]))\n",
    "\n",
    "            if (sum != 0) :        \n",
    "                inter[j]=1/sum\n",
    "            else:\n",
    "                inter[j]=0\n",
    "            \n",
    "    #Create a sorted list, in ties we take the smallest ID\n",
    "    lis=sorted(inter, key=inter.get, reverse=True)\n",
    "\n",
    "    #Final Result\n",
    "    return(lis[0:10]);"
   ]
  },
  {
   "cell_type": "code",
   "execution_count": 95,
   "metadata": {},
   "outputs": [
    {
     "data": {
      "text/plain": [
       "[6, 11, 1, 3, 4, 7, 8, 9, 10]"
      ]
     },
     "execution_count": 95,
     "metadata": {},
     "output_type": "execute_result"
    }
   ],
   "source": [
    "##### Test the code for the Sample\n",
    "users=[1,2,3,4,5,6,7,8,9,10,11]\n",
    "AdamicAdarFunction(users, sample,5)"
   ]
  },
  {
   "cell_type": "code",
   "execution_count": 109,
   "metadata": {},
   "outputs": [
    {
     "data": {
      "text/plain": [
       "[2, 4, 6, 8, 11, 12, 14, 15, 17, 18]"
      ]
     },
     "execution_count": 109,
     "metadata": {},
     "output_type": "execute_result"
    }
   ],
   "source": [
    "##### Test the code for the Original Dataset\n",
    "users=list(range(0,4038))\n",
    "AdamicAdarFunction(users, data,30)"
   ]
  },
  {
   "cell_type": "markdown",
   "metadata": {},
   "source": [
    "### Evaluation of the recommendation system"
   ]
  },
  {
   "cell_type": "code",
   "execution_count": 113,
   "metadata": {},
   "outputs": [],
   "source": [
    "# Demo set\n",
    "data100=data[(data.node2%100 == 0) & (data.node1%100 == 0) & (data.node1 != 0) & (data.node2 != 0)]"
   ]
  },
  {
   "cell_type": "code",
   "execution_count": 123,
   "metadata": {},
   "outputs": [],
   "source": [
    "# Create users list\n",
    "users=list(range(100,4100,100))\n",
    "\n",
    "#Run the functions\n",
    "fofList=friendOfFriend(users, data100,100)\n",
    "JaccardList=JaccardCoefficient(users, data100,100)\n",
    "AdamicAdarList=AdamicAdarFunction(users, data100,100)\n",
    "\n",
    "#Similarity Percentage of FoF and Jaccard\n",
    "s1=len(set(fofList).intersection(set(JaccardList)))*10\n",
    "\n",
    "#Similarity Percentage of FoF and Adamic and Adar\n",
    "s2=len(set(fofList).intersection(set(AdamicAdarList)))*10\n",
    "\n",
    "#Similarity Percentage of Jaccard and Adamic and Adar\n",
    "s3=len(set(AdamicAdarList).intersection(set(JaccardList)))*10\n",
    "\n",
    "#Average Similarity\n",
    "avg_similarity=(s1+s2+s3)/3"
   ]
  },
  {
   "cell_type": "code",
   "execution_count": 117,
   "metadata": {},
   "outputs": [],
   "source": [
    "#Forecast Recommendations"
   ]
  },
  {
   "cell_type": "code",
   "execution_count": 294,
   "metadata": {},
   "outputs": [
    {
     "name": "stdout",
     "output_type": "stream",
     "text": [
      "{1: [11], 2: [], 3: [6], 4: [6], 5: [2, 7, 11], 6: [2, 7, 11], 7: [9, 6], 8: [9], 9: [3, 11], 10: [], 11: [], 100: [], 200: [], 300: [], 400: [500], 500: [400], 600: [], 700: [], 800: [], 900: [], 1000: [], 1100: [], 1200: [], 1300: [], 1400: [], 1500: [], 1600: [1800], 1700: [], 1800: [1600], 1900: [], 2000: [], 2100: [], 2200: [2500, 2600], 2300: [], 2400: [], 2500: [2600, 2200], 2600: [2200, 2500], 2700: [], 2800: [], 2900: [], 3000: [], 3100: [], 3200: [], 3300: [], 3400: [], 3500: [], 3600: [], 3700: [], 3800: [], 3900: [], 4000: []}\n"
     ]
    },
    {
     "data": {
      "text/plain": [
       "[2, 7]"
      ]
     },
     "execution_count": 294,
     "metadata": {},
     "output_type": "execute_result"
    }
   ],
   "source": [
    "#Example\n",
    "users=list(range(100,4100,100))\n",
    "dataset=data00\n",
    "for node in users:\n",
    "        #Create a list with the friends of node\n",
    "        ls=dataset[dataset.node1 == node]['node2'].tolist()\n",
    "\n",
    "        #Create a dictionary with key the node and value the list\n",
    "        friendships[node]=ls\n",
    "print(friendships)\n",
    "\n",
    "#Break the connection between 2800 and 3400\n",
    "data00=data100[((data100.node2 != 3400 ) & (data100.node1 != 2800)) & ((data100.node2 != 2800 ) & (data100.node1 != 3400))]\n",
    "\n"
   ]
  }
 ],
 "metadata": {
  "kernelspec": {
   "display_name": "Python 3",
   "language": "python",
   "name": "python3"
  },
  "language_info": {
   "codemirror_mode": {
    "name": "ipython",
    "version": 3
   },
   "file_extension": ".py",
   "mimetype": "text/x-python",
   "name": "python",
   "nbconvert_exporter": "python",
   "pygments_lexer": "ipython3",
   "version": "3.6.4"
  }
 },
 "nbformat": 4,
 "nbformat_minor": 2
}
