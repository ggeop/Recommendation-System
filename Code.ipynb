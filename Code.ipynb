{
 "cells": [
  {
   "cell_type": "markdown",
   "metadata": {},
   "source": [
    "# Recommendation System"
   ]
  },
  {
   "cell_type": "code",
   "execution_count": 1,
   "metadata": {},
   "outputs": [],
   "source": [
    "#Libraries\n",
    "import pandas as pd\n",
    "import numpy as np\n",
    "from random import *"
   ]
  },
  {
   "cell_type": "code",
   "execution_count": 2,
   "metadata": {},
   "outputs": [],
   "source": [
    "#Load the dataset\n",
    "data=pd.read_csv(\"facebook_combined.txt\",sep=\" \", header=None)\n",
    "\n",
    "#Add column names\n",
    "data.columns = [\"node1\", \"node2\"]"
   ]
  },
  {
   "cell_type": "code",
   "execution_count": 3,
   "metadata": {},
   "outputs": [],
   "source": [
    "#Transform the graph to undirected\n",
    "data2=pd.concat([data.node2,data.node1], axis=1)\n",
    "\n",
    "#Rename the columns in order to merge the columns\n",
    "data2.columns= [\"node1\", \"node2\"]\n",
    "data=data.append(data2)\n",
    "\n",
    "#Reset indexes\n",
    "data = data.reset_index(drop=True)"
   ]
  },
  {
   "cell_type": "code",
   "execution_count": 4,
   "metadata": {},
   "outputs": [],
   "source": [
    "#Create a sample graph dataset\n",
    "test_data = pd.DataFrame([[5, 2], \n",
    "                       [9, 3],\n",
    "                       [9, 11],\n",
    "                       [3, 6],\n",
    "                       [4, 6],\n",
    "                       [5, 7],\n",
    "                       [1, 11],\n",
    "                       [6, 2],\n",
    "                       [7, 9],\n",
    "                       [8, 9],\n",
    "                       [5, 11],\n",
    "                       [6, 7],\n",
    "                       [6, 11],\n",
    "                       [7, 6],\n",
    "                       [2, 11],\n",
    "                       [11,2],\n",
    "                       [2, 5],\n",
    "                       [6, 2],\n",
    "                       [2, 7],\n",
    "                       [7, 2]],\n",
    "                      columns=[\"node1\", \"node2\"])"
   ]
  },
  {
   "cell_type": "markdown",
   "metadata": {},
   "source": [
    "#### Recommending friends using Common neighbors (friend-of-friend (FoF) method)"
   ]
  },
  {
   "cell_type": "code",
   "execution_count": 5,
   "metadata": {},
   "outputs": [],
   "source": [
    "##### Create the function for Common neighbors\n",
    "\n",
    "def friendOfFriend(users, dataset, target):\n",
    "    #Initialize\n",
    "    l=list()\n",
    "    friendships={}\n",
    "\n",
    "    #Create friendships dict\n",
    "    for node in users:\n",
    "        #Create a list with the friends of node\n",
    "        ls=dataset[dataset.node1 == node]['node2'].tolist()\n",
    "\n",
    "        #Create a dictionary with key the node and value the list\n",
    "        friendships[node]=ls\n",
    "\n",
    "    # Initialize a dictionary with the intersections\n",
    "    inter={}\n",
    "\n",
    "    #Intersection between users\n",
    "    for j in friendships:\n",
    "        if (target != j) and (target not in friendships[j]) :\n",
    "            intersection=(len(set(friendships.get(target)).intersection(set(friendships.get(j)))))\n",
    "            #print(intersection)\n",
    "            inter[j]=intersection\n",
    "   \n",
    "    #Create a sorted list, in ties we take the smallest ID\n",
    "    lis=sorted(inter, key=inter.get, reverse=True)\n",
    "\n",
    "    #Final Result\n",
    "    return(lis[0:10]);\n",
    "    "
   ]
  },
  {
   "cell_type": "code",
   "execution_count": 6,
   "metadata": {},
   "outputs": [
    {
     "data": {
      "text/plain": [
       "[6, 1, 7, 9, 11, 3, 4, 8, 10]"
      ]
     },
     "execution_count": 6,
     "metadata": {},
     "output_type": "execute_result"
    }
   ],
   "source": [
    "##### Test the code for the Sample\n",
    "users=[1,2,3,4,5,6,7,8,9,10,11]\n",
    "friendOfFriend(users, test_data, 5)"
   ]
  },
  {
   "cell_type": "code",
   "execution_count": 7,
   "metadata": {},
   "outputs": [
    {
     "name": "stdout",
     "output_type": "stream",
     "text": [
      "[513, 400, 559, 373, 492, 500, 378, 436, 431, 514]\n",
      "[916, 1238, 1750, 1230, 1004, 1791, 1530, 1172, 1570, 1597]\n",
      "[2, 17, 140, 111, 137, 162, 19, 333, 44, 243]\n",
      "[46, 68, 99, 131, 175, 177, 225, 227, 278, 321]\n"
     ]
    }
   ],
   "source": [
    "##### Test the code for the Original Dataset\n",
    "users=list(range(0,4038))\n",
    "print(friendOfFriend(users, data,107))\n",
    "print(friendOfFriend(users, data,1126))\n",
    "print(friendOfFriend(users, data,14))\n",
    "print(friendOfFriend(users, data,35))"
   ]
  },
  {
   "cell_type": "markdown",
   "metadata": {},
   "source": [
    "###  Recommending friends using Jaccard coefficient"
   ]
  },
  {
   "cell_type": "code",
   "execution_count": 8,
   "metadata": {},
   "outputs": [],
   "source": [
    "##### Create the function for Common neighbors using Jaccard coefficient\n",
    "\n",
    "def JaccardCoefficient(users, dataset, target):\n",
    "    #Initialize\n",
    "    l=list()\n",
    "    friendships={}\n",
    "\n",
    "    #Create friendships dict\n",
    "    for node in users:\n",
    "        #Create a list with the friends of node\n",
    "        ls=dataset[dataset.node1 == node]['node2'].tolist()\n",
    "\n",
    "        #Create a dictionary with key the node and value the list\n",
    "        friendships[node]=ls\n",
    "\n",
    "    # Initialize a dictionary with the intersections\n",
    "    inter={}\n",
    "\n",
    "    #Intersection between users\n",
    "    for j in friendships:\n",
    "        if (target != j) and (target not in friendships[j]) :\n",
    "            # Create union\n",
    "            union=len(set(friendships.get(target)).union(set(friendships.get(j))))\n",
    "            # Check for No zero denominator\n",
    "            if (union != 0) :\n",
    "                inter[j]=len(set(friendships.get(target)).intersection(set(friendships.get(j))))/union\n",
    "\n",
    "    #Create a sorted list, in ties we take the smallest ID\n",
    "    lis=sorted(inter, key=inter.get, reverse=True)\n",
    "\n",
    "    #Final Result\n",
    "    return(lis[0:10]);\n",
    "    "
   ]
  },
  {
   "cell_type": "code",
   "execution_count": 9,
   "metadata": {},
   "outputs": [
    {
     "data": {
      "text/plain": [
       "[6, 1, 11, 9, 7, 3, 4, 8, 10]"
      ]
     },
     "execution_count": 9,
     "metadata": {},
     "output_type": "execute_result"
    }
   ],
   "source": [
    "##### Test the code for the Sample\n",
    "users=[1,2,3,4,5,6,7,8,9,10,11]\n",
    "JaccardCoefficient(users, test_data, 5)"
   ]
  },
  {
   "cell_type": "code",
   "execution_count": 10,
   "metadata": {},
   "outputs": [
    {
     "name": "stdout",
     "output_type": "stream",
     "text": [
      "[513, 400, 559, 492, 500, 373, 436, 378, 515, 514]\n",
      "[916, 1750, 1230, 1530, 1004, 1238, 1172, 1791, 1789, 1597]\n",
      "[2, 140, 17, 162, 111, 333, 44, 137, 19, 243]\n",
      "[321, 11, 12, 15, 18, 37, 43, 74, 114, 209]\n"
     ]
    }
   ],
   "source": [
    "##### Test the code for the Original Dataset\n",
    "users=list(range(0,4038))\n",
    "\n",
    "print(JaccardCoefficient(users, data,107))\n",
    "print(JaccardCoefficient(users, data,1126))\n",
    "print(JaccardCoefficient(users, data,14))\n",
    "print(JaccardCoefficient(users, data,35))"
   ]
  },
  {
   "cell_type": "markdown",
   "metadata": {},
   "source": [
    "### Recommending friends using Adamic and Adar function"
   ]
  },
  {
   "cell_type": "code",
   "execution_count": 11,
   "metadata": {},
   "outputs": [],
   "source": [
    "def AdamicAdarFunction(users, dataset, target):\n",
    "    #Initialize\n",
    "    l=list()\n",
    "    friendships={}\n",
    "\n",
    "    #Create friendships dict\n",
    "    for node in users:\n",
    "        #Create a list with the friends of node\n",
    "        ls=dataset[dataset.node1 == node]['node2'].tolist()\n",
    "\n",
    "        #Create a dictionary with key the node and value the list\n",
    "        friendships[node]=ls\n",
    "\n",
    "    # Initialize a dictionary with the intersections\n",
    "    inter={}\n",
    "\n",
    "    #Intersection between users\n",
    "    for j in friendships:\n",
    "        if (target != j) and (target not in friendships[j]) :\n",
    "            intersection = set(friendships.get(target)).intersection(set(friendships.get(j)))\n",
    "\n",
    "            # Adamic and Adar score calculation\n",
    "            sum = 0\n",
    "            for k in intersection :\n",
    "                if (k in friendships.keys()) and (friendships[k] != []) and len(friendships[k]) != 1:\n",
    "                    sum = sum+1/np.log(len(friendships[k]))\n",
    "\n",
    "            inter[j]=sum\n",
    "   \n",
    "    #Create a sorted list, in ties we take the smallest ID\n",
    "    lis=sorted(inter, key=inter.get, reverse=True)\n",
    "\n",
    "    #Final Result\n",
    "    return(lis[0:10]);"
   ]
  },
  {
   "cell_type": "code",
   "execution_count": 12,
   "metadata": {},
   "outputs": [
    {
     "data": {
      "text/plain": [
       "[6, 7, 11, 1, 3, 4, 8, 9, 10]"
      ]
     },
     "execution_count": 12,
     "metadata": {},
     "output_type": "execute_result"
    }
   ],
   "source": [
    "##### Test the code for the Sample\n",
    "users=[1,2,3,4,5,6,7,8,9,10,11]\n",
    "AdamicAdarFunction(users, test_data, 5)"
   ]
  },
  {
   "cell_type": "code",
   "execution_count": 13,
   "metadata": {},
   "outputs": [
    {
     "name": "stdout",
     "output_type": "stream",
     "text": [
      "[513, 400, 559, 500, 492, 373, 378, 436, 524, 514]\n",
      "[916, 1238, 1750, 1230, 1004, 1791, 1530, 1172, 1570, 1597]\n",
      "[2, 17, 140, 111, 162, 137, 333, 19, 44, 243]\n",
      "[46, 68, 99, 131, 175, 177, 225, 227, 278, 321]\n"
     ]
    }
   ],
   "source": [
    "##### Test the code for the Original Dataset\n",
    "users=list(range(0,4038))\n",
    "\n",
    "print(AdamicAdarFunction(users, data,107))\n",
    "print(AdamicAdarFunction(users, data,1126))\n",
    "print(AdamicAdarFunction(users, data,14))\n",
    "print(AdamicAdarFunction(users, data,35))"
   ]
  },
  {
   "cell_type": "markdown",
   "metadata": {},
   "source": [
    "### Evaluation of the recommendation system"
   ]
  },
  {
   "cell_type": "code",
   "execution_count": 14,
   "metadata": {},
   "outputs": [
    {
     "name": "stdout",
     "output_type": "stream",
     "text": [
      "The average similarity is: 46.67 %\n"
     ]
    }
   ],
   "source": [
    "# Create users list\n",
    "users=list(range(100,4100,100))\n",
    "data100=data[(data.node2%100 == 0) & (data.node1%100 == 0) & (data.node1 != 0) & (data.node2 != 0)]\n",
    "\n",
    "#Run the functions\n",
    "fofList=friendOfFriend(users, data100,100)\n",
    "JaccardList=JaccardCoefficient(users, data100,100)\n",
    "AdamicAdarList=AdamicAdarFunction(users, data100,100)\n",
    "\n",
    "#Similarity Percentage of FoF and Jaccard\n",
    "s1=len(set(fofList).intersection(set(JaccardList)))*10\n",
    "\n",
    "#Similarity Percentage of FoF and Adamic and Adar\n",
    "s2=len(set(fofList).intersection(set(AdamicAdarList)))*10\n",
    "\n",
    "#Similarity Percentage of Jaccard and Adamic and Adar\n",
    "s3=len(set(AdamicAdarList).intersection(set(JaccardList)))*10\n",
    "\n",
    "#Average Similarity (%)\n",
    "print(\"The average similarity is:\",round((s1+s2+s3)/3,2),\"%\")"
   ]
  },
  {
   "cell_type": "markdown",
   "metadata": {},
   "source": [
    "### Forecast Recommendations"
   ]
  },
  {
   "cell_type": "code",
   "execution_count": 15,
   "metadata": {},
   "outputs": [],
   "source": [
    "#Choose a pair F1 AND F2\n",
    "\n",
    "def evaluationFunction(dataset,users,F1,F2):\n",
    "\n",
    "    ####Remove the relationship\n",
    "    \n",
    "    #First we find the connection F1-F2\n",
    "    l1=dataset[dataset.node2 == F1].index\n",
    "    l2=dataset[dataset.node1 == F2 ].index\n",
    "    rm1=set(l1).intersection(set(l2))\n",
    "    \n",
    "    #Then we find the connection F2-F1\n",
    "    l1=dataset[dataset.node2 == F2 ].index\n",
    "    l2=dataset[dataset.node1 == F1].index\n",
    "    rm2=set(l1).intersection(set(l2))\n",
    "\n",
    "    #We create the union\n",
    "    rm=rm1.union(rm2)\n",
    "    \n",
    "    #if the set ==() there isn't relationship between F1 AND F2\n",
    "    if rm == set():\n",
    "        return(None);\n",
    "    \n",
    "    #Remove the elements of the set rm\n",
    "    for i in rm:\n",
    "        dataset=dataset.drop(i)\n",
    "    \n",
    "    ###FoF (friend-of-friend)\n",
    "    if ((F1 in friendOfFriend(users, dataset,F2)) and (F2 in friendOfFriend(users, dataset,F1))): \n",
    "        \n",
    "        #Compute the recommendations for F1\n",
    "        Friend1=10 - friendOfFriend(users, dataset,F1).index(F2)\n",
    "\n",
    "        #Compute the resommentdations for F2\n",
    "        Friend2=10 - friendOfFriend(users, dataset,F2).index(F1)\n",
    "\n",
    "\n",
    "        ####Compute the score\n",
    "        scoreFoF=(Friend1+Friend2)/2\n",
    "        \n",
    "    else:\n",
    "        scoreFoF= 0\n",
    "    \n",
    "    ###Jaccard\n",
    "    if ((F1 in JaccardCoefficient(users, dataset,F2)) and (F2 in JaccardCoefficient(users, dataset,F1))): \n",
    "        \n",
    "        #Compute the recommendations for F1\n",
    "        Friend1=10 - JaccardCoefficient(users, dataset,F1).index(F2)\n",
    "\n",
    "        #Compute the resommentdations for F2\n",
    "        Friend2=10 - JaccardCoefficient(users, dataset,F2).index(F1)\n",
    "\n",
    "        ####Check if either of these does not exist\n",
    "\n",
    "        ####Compute the score\n",
    "        scoreJaccard=(Friend1+Friend2)/2\n",
    "        \n",
    "    else:\n",
    "        scoreJaccard = 0\n",
    "    \n",
    "    ###AdamicAdar\n",
    "    if ((F1 in AdamicAdarFunction(users, dataset,F2)) and (F2 in AdamicAdarFunction(users, dataset,F1))):\n",
    "        \n",
    "        #Compute the recommendations for F1\n",
    "        Friend1=10 - AdamicAdarFunction(users, dataset,F1).index(F2)\n",
    "\n",
    "        #Compute the resommentdations for F2\n",
    "        Friend2=10 - AdamicAdarFunction(users, dataset,F2).index(F1)\n",
    "\n",
    "        ####Check if either of these does not exist\n",
    "\n",
    "        ####Compute the score\n",
    "        scoreAdamicAdar=(Friend1+Friend2)/2\n",
    "        \n",
    "    else:\n",
    "        scoreAdamicAdar = 0       \n",
    "    \n",
    "    return(scoreFoF,scoreJaccard,scoreAdamicAdar);"
   ]
  },
  {
   "cell_type": "code",
   "execution_count": 16,
   "metadata": {},
   "outputs": [],
   "source": [
    "#Function for iterations\n",
    "def finalScore(dataset,users, n):\n",
    "    eval_scores=[]\n",
    "    for l in list(range(0,n)):\n",
    "        \n",
    "        friends=sample(users,2) #take 2 random users\n",
    "        evaluationOutput=evaluationFunction(dataset,users,friends[0],friends[1])\n",
    "        \n",
    "        if (evaluationOutput!= None):\n",
    "            eval_scores.append(evaluationFunction(dataset,users,friends[0],friends[1]))\n",
    "        \n",
    "    #Final Print\n",
    "    if eval_scores != [] :\n",
    "        #Calculate the average value\n",
    "        scores=np.mean(eval_scores,axis=0)\n",
    "        \n",
    "        print(\"FoF score is: \", round(scores[0],3),\"/10\")\n",
    "        print(\"Jaccard score is: \", round(scores[1],3),\"/10\")\n",
    "        print(\"Adamic Adar score is: \", round(scores[2],3),\"/10\")\n",
    "        \n",
    "        \n",
    "    return;       "
   ]
  },
  {
   "cell_type": "code",
   "execution_count": 17,
   "metadata": {},
   "outputs": [
    {
     "name": "stdout",
     "output_type": "stream",
     "text": [
      "FoF score is:  6.875 /10\n",
      "Jaccard score is:  6.725 /10\n",
      "Adamic Adar score is:  7.175 /10\n"
     ]
    }
   ],
   "source": [
    "#Create the scores for the test_data (for 100 iterations)\n",
    "users=[1,2,3,4,5,6,7,8,9,10,11]\n",
    "finalScore(test_data,users,100)"
   ]
  },
  {
   "cell_type": "code",
   "execution_count": 18,
   "metadata": {},
   "outputs": [
    {
     "name": "stdout",
     "output_type": "stream",
     "text": [
      "FoF score is:  6.0 /10\n",
      "Jaccard score is:  4.333 /10\n",
      "Adamic Adar score is:  6.0 /10\n"
     ]
    }
   ],
   "source": [
    "users=list(range(0,4038))\n",
    "finalScore(data,users,100)"
   ]
  },
  {
   "cell_type": "markdown",
   "metadata": {},
   "source": [
    "## 2nd Evaluation System"
   ]
  },
  {
   "cell_type": "markdown",
   "metadata": {},
   "source": [
    "In thi system we take a target node and we remove one by one all the friends of him. Hence, we calculate the number of the friends that suggested divided with the total initial number of friends. This computations are hard intensive, so we do this procedure for 2-3 different targets."
   ]
  },
  {
   "cell_type": "code",
   "execution_count": 48,
   "metadata": {},
   "outputs": [],
   "source": [
    "#Function for iterations\n",
    "def finalScore2(dataset,users, n):\n",
    "    \n",
    "    eval_scores=[]\n",
    "    \n",
    "    #Create friendships dict\n",
    "    friendships={}\n",
    "    for node in users:\n",
    "        #Create a list with the friends of node\n",
    "        ls=dataset[dataset.node1 == node]['node2'].tolist()\n",
    "\n",
    "        #Create a dictionary with key the node and value the list\n",
    "        friendships[node]=ls\n",
    "\n",
    "    for l in list(range(0,n)):\n",
    "        \n",
    "        target=sample(users,1)[0] #take 1 random user\n",
    "        \n",
    "        #Initialize the scores\n",
    "        scorefof = 0\n",
    "        scoreJaccard = 0\n",
    "        scoreAdamicAdar = 0\n",
    "        friends=[]\n",
    "        \n",
    "        for i in friendships.get(target):\n",
    "            friends.append([target,i])\n",
    "            \n",
    "        for i in friends:\n",
    "            evaluationOutput=evaluationFunction(dataset,users,i[0],i[1])\n",
    "\n",
    "            if (evaluationOutput!= None):\n",
    "                if evaluationOutput[0]!= 0:\n",
    "                    scorefof +=1\n",
    "                if evaluationOutput[1]!= 0:\n",
    "                    scoreJaccard +=1\n",
    "                if evaluationOutput[2]!= 0:    \n",
    "                    scoreAdamicAdar +=1\n",
    "        \n",
    "        if len(friends) !=0 :\n",
    "            eval_scores.append([scorefof/len(friends),scoreJaccard/len(friends),scoreAdamicAdar/len(friends)])\n",
    "            \n",
    "        #Final Print\n",
    "        if eval_scores != [] :\n",
    "            #Calculate the average value\n",
    "            scores=np.mean(eval_scores,axis=0)\n",
    "\n",
    "    print(\"FoF score is: \", round(scores[0],4))\n",
    "    print(\"Jaccard score is: \", round(scores[1],4))\n",
    "    print(\"Adamic Adar score is: \", round(scores[2],4))\n",
    "        \n",
    "        \n",
    "    return;  "
   ]
  },
  {
   "cell_type": "code",
   "execution_count": 52,
   "metadata": {},
   "outputs": [
    {
     "name": "stdout",
     "output_type": "stream",
     "text": [
      "FoF score is:  0.7308\n",
      "Jaccard score is:  0.7115\n",
      "Adamic Adar score is:  0.9808\n"
     ]
    }
   ],
   "source": [
    "users=list(range(0,4038))\n",
    "finalScore2(data,users,2)"
   ]
  }
 ],
 "metadata": {
  "kernelspec": {
   "display_name": "Python 3",
   "language": "python",
   "name": "python3"
  },
  "language_info": {
   "codemirror_mode": {
    "name": "ipython",
    "version": 3
   },
   "file_extension": ".py",
   "mimetype": "text/x-python",
   "name": "python",
   "nbconvert_exporter": "python",
   "pygments_lexer": "ipython3",
   "version": "3.6.4"
  }
 },
 "nbformat": 4,
 "nbformat_minor": 2
}
