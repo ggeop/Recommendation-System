{
 "cells": [
  {
   "cell_type": "markdown",
   "metadata": {},
   "source": [
    "# Recommendation System"
   ]
  },
  {
   "cell_type": "code",
   "execution_count": 1,
   "metadata": {},
   "outputs": [],
   "source": [
    "#Libraries\n",
    "import pandas as pd\n",
    "import numpy as np"
   ]
  },
  {
   "cell_type": "code",
   "execution_count": 2,
   "metadata": {},
   "outputs": [],
   "source": [
    "#Load the dataset\n",
    "data=pd.read_csv(\"facebook_combined.txt\",sep=\" \", header=None)\n",
    "\n",
    "#Add column names\n",
    "data.columns = [\"node1\", \"node2\"]"
   ]
  },
  {
   "cell_type": "code",
   "execution_count": 3,
   "metadata": {},
   "outputs": [],
   "source": [
    "#Transform the graph to undirected\n",
    "data2=pd.concat([data.node2,data.node1], axis=1)\n",
    "data=data.append(data2)"
   ]
  },
  {
   "cell_type": "code",
   "execution_count": 110,
   "metadata": {},
   "outputs": [],
   "source": [
    "#Create a sample graph dataset\n",
    "sample = pd.DataFrame([[5, 2], \n",
    "                       [9, 3],\n",
    "                       [9, 11],\n",
    "                       [3, 6],\n",
    "                       [4, 6],\n",
    "                       [5, 7],\n",
    "                       [1, 11],\n",
    "                       [6, 2],\n",
    "                       [7, 9],\n",
    "                       [8, 9],\n",
    "                       [5, 11],\n",
    "                       [6, 7],\n",
    "                       [6, 11],\n",
    "                       [7, 6]],\n",
    "                      columns=[\"node1\", \"node2\"])"
   ]
  },
  {
   "cell_type": "markdown",
   "metadata": {},
   "source": [
    "#### Recommending friends using Common neighbors (friend-of-friend (FoF) method)"
   ]
  },
  {
   "cell_type": "code",
   "execution_count": 81,
   "metadata": {},
   "outputs": [],
   "source": [
    "##### Create the function for Common neighbors\n",
    "\n",
    "def friendOfFriend(users, dataset):\n",
    "    #Initialize\n",
    "    l=list()\n",
    "    friendships={}\n",
    "\n",
    "    #Create friendships dict\n",
    "    for node in users:\n",
    "        #Create a list with the friends of node\n",
    "        ls=dataset[dataset.node1 == node]['node2'].tolist()\n",
    "\n",
    "        #Create a dictionary with key the node and value the list\n",
    "        friendships[node]=ls\n",
    "\n",
    "    # Initialize a dictionary with the intersections\n",
    "    inter={}\n",
    "\n",
    "    #Intersection between users\n",
    "    for i in friendships:\n",
    "        intersection=[0]\n",
    "        for j in friendships:\n",
    "            if (i != j) and (i not in friendships[j]) :\n",
    "                intersection.append(len(set(friendships.get(i)).intersection(set(friendships.get(j)))))\n",
    "        inter[i]=max(intersection)\n",
    "        \n",
    "    #Create a sorted list, in ties we take the smallest ID\n",
    "    lis=sorted(inter, key=inter.get, reverse=True)\n",
    "\n",
    "    #Final Result\n",
    "    print(lis[0:10])\n",
    "    "
   ]
  },
  {
   "cell_type": "code",
   "execution_count": 85,
   "metadata": {},
   "outputs": [
    {
     "name": "stdout",
     "output_type": "stream",
     "text": [
      "[5, 6, 1, 3, 4, 7, 8, 9, 2, 10]\n"
     ]
    }
   ],
   "source": [
    "##### Test the code for the Sample\n",
    "users=[1,2,3,4,5,6,7,8,9,10,11]\n",
    "friendOfFriend(users, sample)"
   ]
  },
  {
   "cell_type": "code",
   "execution_count": 83,
   "metadata": {},
   "outputs": [
    {
     "name": "stdout",
     "output_type": "stream",
     "text": [
      "[1912, 107, 1917, 1943, 1938, 1985, 1946, 1983, 1962, 1993]\n"
     ]
    }
   ],
   "source": [
    "##### Test the code for the Original Dataset\n",
    "users=range(0,4038)\n",
    "friendOfFriend(users, data)"
   ]
  },
  {
   "cell_type": "markdown",
   "metadata": {},
   "source": [
    "###  Recommending friends using Jaccard coefficient"
   ]
  },
  {
   "cell_type": "code",
   "execution_count": 99,
   "metadata": {},
   "outputs": [],
   "source": [
    "##### Create the function for Common neighbors using Jaccard coefficient\n",
    "\n",
    "def JaccardCoefficient(users, dataset):\n",
    "    #Initialize\n",
    "    l=list()\n",
    "    friendships={}\n",
    "\n",
    "    #Create friendships dict\n",
    "    for node in users:\n",
    "        #Create a list with the friends of node\n",
    "        ls=dataset[dataset.node1 == node]['node2'].tolist()\n",
    "\n",
    "        #Create a dictionary with key the node and value the list\n",
    "        friendships[node]=ls\n",
    "\n",
    "    # Initialize a dictionary with the intersections\n",
    "    inter={}\n",
    "\n",
    "   #Intersection between users\n",
    "    for i in friendships:\n",
    "        intersection=[0]\n",
    "        for j in friendships:\n",
    "            \n",
    "            if (i != j) and (i not in friendships[j]) :\n",
    "                # Create union\n",
    "                union=len(set(friendships.get(i)).union(set(friendships.get(j))))\n",
    "                # Check for No zero denominator\n",
    "                if (union != 0) :\n",
    "                    intersection.append(len(set(friendships.get(i)).intersection(set(friendships.get(j))))/union)\n",
    "\n",
    "        inter[i]=max(intersection)\n",
    "\n",
    "        \n",
    "    #Create a sorted list, in ties we take the smallest ID\n",
    "    lis=sorted(inter, key=inter.get, reverse=True)\n",
    "\n",
    "    #Final Result\n",
    "    print(lis[0:10])\n",
    "    "
   ]
  },
  {
   "cell_type": "code",
   "execution_count": 100,
   "metadata": {},
   "outputs": [
    {
     "name": "stdout",
     "output_type": "stream",
     "text": [
      "[3, 4, 5, 6, 1, 7, 8, 9, 2, 10]\n"
     ]
    }
   ],
   "source": [
    "##### Test the code for the Sample\n",
    "users=[1,2,3,4,5,6,7,8,9,10,11]\n",
    "JaccardCoefficient(users, sample)"
   ]
  },
  {
   "cell_type": "code",
   "execution_count": 101,
   "metadata": {},
   "outputs": [
    {
     "name": "stdout",
     "output_type": "stream",
     "text": [
      "[90, 145, 160, 162, 193, 201, 202, 206, 207, 217]\n"
     ]
    }
   ],
   "source": [
    "##### Test the code for the Original Dataset\n",
    "users=range(0,4038)\n",
    "JaccardCoefficient(users, data)"
   ]
  },
  {
   "cell_type": "markdown",
   "metadata": {},
   "source": [
    "### Recommending friends using Adamic and Adar function"
   ]
  },
  {
   "cell_type": "code",
   "execution_count": 148,
   "metadata": {},
   "outputs": [],
   "source": [
    "def AdamicAdarFunction(users, dataset):\n",
    "    #Initialize\n",
    "    l=list()\n",
    "    friendships={}\n",
    "\n",
    "    #Create friendships dict\n",
    "    for node in users:\n",
    "        #Create a list with the friends of node\n",
    "        ls=dataset[dataset.node1 == node]['node2'].tolist()\n",
    "\n",
    "        #Create a dictionary with key the node and value the list\n",
    "        friendships[node]=ls\n",
    "\n",
    "    # Initialize a dictionary with the intersections\n",
    "    inter={}\n",
    "\n",
    "    #Intersection between users\n",
    "    for i in friendships:\n",
    "        intersection=[0]\n",
    "        score=[0]\n",
    "        for j in friendships:\n",
    "            if (i != j) and (i not in friendships[j]) :\n",
    "                intersection = set(friendships.get(i)).intersection(set(friendships.get(j)))\n",
    "\n",
    "                # Adamic and Adar score calculation\n",
    "                sum = 0\n",
    "                for k in intersection :\n",
    "                    if ( k in friendships.keys()) and (friendships[k] != []):\n",
    "                        sum = sum+1/np.log(len(friendships[k]))\n",
    "                score.append(sum)\n",
    "\n",
    "        inter[i]=max(score)\n",
    "    #Create a sorted list, in ties we take the smallest ID\n",
    "    lis=sorted(inter, key=inter.get, reverse=True)\n",
    "\n",
    "    #Final Result\n",
    "    print(lis[0:10])                  "
   ]
  },
  {
   "cell_type": "code",
   "execution_count": 149,
   "metadata": {},
   "outputs": [
    {
     "name": "stdout",
     "output_type": "stream",
     "text": [
      "[5, 6, 7, 8, 3, 4, 1, 2, 9, 10]\n"
     ]
    }
   ],
   "source": [
    "##### Test the code for the Sample\n",
    "users=[1,2,3,4,5,6,7,8,9,10,11]\n",
    "AdamicAdarFunction(users, sample)"
   ]
  },
  {
   "cell_type": "code",
   "execution_count": 150,
   "metadata": {},
   "outputs": [
    {
     "name": "stdout",
     "output_type": "stream",
     "text": [
      "[107, 1912, 1577, 1985, 1917, 1983, 1943, 1938, 1993, 1962]\n"
     ]
    }
   ],
   "source": [
    "##### Test the code for the Original Dataset\n",
    "users=range(0,4038)\n",
    "AdamicAdarFunction(users, data)"
   ]
  }
 ],
 "metadata": {
  "kernelspec": {
   "display_name": "Python 3",
   "language": "python",
   "name": "python3"
  },
  "language_info": {
   "codemirror_mode": {
    "name": "ipython",
    "version": 3
   },
   "file_extension": ".py",
   "mimetype": "text/x-python",
   "name": "python",
   "nbconvert_exporter": "python",
   "pygments_lexer": "ipython3",
   "version": "3.6.4"
  }
 },
 "nbformat": 4,
 "nbformat_minor": 2
}
