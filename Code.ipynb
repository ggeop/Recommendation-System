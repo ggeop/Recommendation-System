{
 "cells": [
  {
   "cell_type": "markdown",
   "metadata": {},
   "source": [
    "# Recommendation System"
   ]
  },
  {
   "cell_type": "code",
   "execution_count": 77,
   "metadata": {},
   "outputs": [],
   "source": [
    "#Libraries\n",
    "import pandas as pd\n",
    "import numpy as np\n",
    "from random import *"
   ]
  },
  {
   "cell_type": "code",
   "execution_count": 78,
   "metadata": {},
   "outputs": [],
   "source": [
    "#Load the dataset\n",
    "data=pd.read_csv(\"facebook_combined.txt\",sep=\" \", header=None)\n",
    "\n",
    "#Add column names\n",
    "data.columns = [\"node1\", \"node2\"]"
   ]
  },
  {
   "cell_type": "code",
   "execution_count": 79,
   "metadata": {},
   "outputs": [],
   "source": [
    "#Transform the graph to undirected\n",
    "data2=pd.concat([data.node2,data.node1], axis=1)\n",
    "\n",
    "#Rename the columns in order to merge the columns\n",
    "data2.columns= [\"node1\", \"node2\"]\n",
    "data=data.append(data2)\n",
    "\n",
    "#Reset indexes\n",
    "data = data.reset_index(drop=True)"
   ]
  },
  {
   "cell_type": "code",
   "execution_count": 61,
   "metadata": {},
   "outputs": [],
   "source": [
    "#Create a sample graph dataset\n",
    "test_data = pd.DataFrame([[5, 2], \n",
    "                       [9, 3],\n",
    "                       [9, 11],\n",
    "                       [3, 6],\n",
    "                       [4, 6],\n",
    "                       [5, 7],\n",
    "                       [1, 11],\n",
    "                       [6, 2],\n",
    "                       [7, 9],\n",
    "                       [8, 9],\n",
    "                       [5, 11],\n",
    "                       [6, 7],\n",
    "                       [6, 11],\n",
    "                       [7, 6],\n",
    "                       [2, 11],\n",
    "                       [11,2],\n",
    "                       [2, 5],\n",
    "                       [6, 2],\n",
    "                       [2, 7],\n",
    "                       [7, 2]],\n",
    "                      columns=[\"node1\", \"node2\"])"
   ]
  },
  {
   "cell_type": "markdown",
   "metadata": {},
   "source": [
    "#### Recommending friends using Common neighbors (friend-of-friend (FoF) method)"
   ]
  },
  {
   "cell_type": "code",
   "execution_count": 62,
   "metadata": {},
   "outputs": [],
   "source": [
    "##### Create the function for Common neighbors\n",
    "\n",
    "def friendOfFriend(users, dataset, target):\n",
    "    #Initialize\n",
    "    l=list()\n",
    "    friendships={}\n",
    "\n",
    "    #Create friendships dict\n",
    "    for node in users:\n",
    "        #Create a list with the friends of node\n",
    "        ls=dataset[dataset.node1 == node]['node2'].tolist()\n",
    "\n",
    "        #Create a dictionary with key the node and value the list\n",
    "        friendships[node]=ls\n",
    "\n",
    "    # Initialize a dictionary with the intersections\n",
    "    inter={}\n",
    "\n",
    "    #Intersection between users\n",
    "    for j in friendships:\n",
    "        if (target != j) and (target not in friendships[j]) :\n",
    "            intersection=(len(set(friendships.get(target)).intersection(set(friendships.get(j)))))\n",
    "            \n",
    "            #Keep intersection into a list\n",
    "            inter[j]=intersection\n",
    "   \n",
    "    #Create a sorted list, in ties we take the smallest ID\n",
    "    lis=sorted(inter, key=inter.get, reverse=True)\n",
    "\n",
    "    #Final Result\n",
    "    return(lis[0:10]);\n",
    "    "
   ]
  },
  {
   "cell_type": "code",
   "execution_count": 63,
   "metadata": {},
   "outputs": [
    {
     "data": {
      "text/plain": [
       "[6, 1, 7, 9, 11, 3, 4, 8, 10]"
      ]
     },
     "execution_count": 63,
     "metadata": {},
     "output_type": "execute_result"
    }
   ],
   "source": [
    "##### Test the code for the Sample\n",
    "users=[1,2,3,4,5,6,7,8,9,10,11]\n",
    "friendOfFriend(users, test_data, 5)"
   ]
  },
  {
   "cell_type": "code",
   "execution_count": 67,
   "metadata": {},
   "outputs": [
    {
     "name": "stdout",
     "output_type": "stream",
     "text": [
      "The suggestions of 107 are: [513, 400, 559, 373, 492, 500, 378, 436, 431, 514]\n",
      "The suggestions of 1126 are: [916, 1238, 1750, 1230, 1004, 1791, 1530, 1172, 1570, 1597]\n",
      "The suggestions of 14 are: [2, 17, 140, 111, 137, 162, 19, 333, 44, 243]\n",
      "The suggestions of 35 are: [46, 68, 99, 131, 175, 177, 225, 227, 278, 321]\n"
     ]
    }
   ],
   "source": [
    "##### Test the code for the Original Dataset\n",
    "users=list(range(0,4038))\n",
    "print(\"The suggestions of 107 are:\", friendOfFriend(users, data,107))\n",
    "print(\"The suggestions of 1126 are:\", friendOfFriend(users, data,1126))\n",
    "print(\"The suggestions of 14 are:\", friendOfFriend(users, data,14))\n",
    "print(\"The suggestions of 35 are:\", friendOfFriend(users, data,35))"
   ]
  },
  {
   "cell_type": "markdown",
   "metadata": {},
   "source": [
    "###  Recommending friends using Jaccard coefficient"
   ]
  },
  {
   "cell_type": "code",
   "execution_count": 30,
   "metadata": {},
   "outputs": [],
   "source": [
    "##### Create the function for Common neighbors using Jaccard coefficient\n",
    "\n",
    "def JaccardCoefficient(users, dataset, target):\n",
    "    #Initialize\n",
    "    l=list()\n",
    "    friendships={}\n",
    "\n",
    "    #Create friendships dict\n",
    "    for node in users:\n",
    "        #Create a list with the friends of node\n",
    "        ls=dataset[dataset.node1 == node]['node2'].tolist()\n",
    "\n",
    "        #Create a dictionary with key the node and value the list\n",
    "        friendships[node]=ls\n",
    "\n",
    "    # Initialize a dictionary with the intersections\n",
    "    inter={}\n",
    "\n",
    "    #Intersection between users\n",
    "    for j in friendships:\n",
    "        if (target != j) and (target not in friendships[j]) :\n",
    "            \n",
    "            # Create union\n",
    "            union=len(set(friendships.get(target)).union(set(friendships.get(j))))\n",
    "            \n",
    "            # Check for No zero denominator\n",
    "            if (union != 0) :\n",
    "                inter[j]=len(set(friendships.get(target)).intersection(set(friendships.get(j))))/union\n",
    "\n",
    "    #Create a sorted list, in ties we take the smallest ID\n",
    "    lis=sorted(inter, key=inter.get, reverse=True)\n",
    "\n",
    "    #Final Result\n",
    "    return(lis[0:10]);\n",
    "    "
   ]
  },
  {
   "cell_type": "code",
   "execution_count": 9,
   "metadata": {},
   "outputs": [
    {
     "data": {
      "text/plain": [
       "[6, 1, 11, 9, 7, 3, 4, 8, 10]"
      ]
     },
     "execution_count": 9,
     "metadata": {},
     "output_type": "execute_result"
    }
   ],
   "source": [
    "##### Test the code for the Sample\n",
    "users=[1,2,3,4,5,6,7,8,9,10,11]\n",
    "JaccardCoefficient(users, test_data, 5)"
   ]
  },
  {
   "cell_type": "code",
   "execution_count": 10,
   "metadata": {},
   "outputs": [
    {
     "name": "stdout",
     "output_type": "stream",
     "text": [
      "The suggestions of 107 are: [513, 400, 559, 492, 500, 373, 436, 378, 515, 514]\n",
      "The suggestions of 1126 are: [916, 1750, 1230, 1530, 1004, 1238, 1172, 1791, 1789, 1597]\n",
      "The suggestions of 14 are: [2, 140, 17, 162, 111, 333, 44, 137, 19, 243]\n",
      "The suggestions of 35 are: [321, 11, 12, 15, 18, 37, 43, 74, 114, 209]\n"
     ]
    }
   ],
   "source": [
    "##### Test the code for the Original Dataset\n",
    "users=list(range(0,4038))\n",
    "\n",
    "print(\"The suggestions of 107 are:\", JaccardCoefficient(users, data,107))\n",
    "print(\"The suggestions of 1126 are:\", JaccardCoefficient(users, data,1126))\n",
    "print(\"The suggestions of 14 are:\", JaccardCoefficient(users, data,14))\n",
    "print(\"The suggestions of 35 are:\", JaccardCoefficient(users, data,35))"
   ]
  },
  {
   "cell_type": "markdown",
   "metadata": {},
   "source": [
    "### Recommending friends using Adamic and Adar function"
   ]
  },
  {
   "cell_type": "code",
   "execution_count": 31,
   "metadata": {},
   "outputs": [],
   "source": [
    "def AdamicAdarFunction(users, dataset, target):\n",
    "    #Initialize\n",
    "    l=list()\n",
    "    friendships={}\n",
    "\n",
    "    #Create friendships dict\n",
    "    for node in users:\n",
    "        #Create a list with the friends of node\n",
    "        ls=dataset[dataset.node1 == node]['node2'].tolist()\n",
    "\n",
    "        #Create a dictionary with key the node and value the list\n",
    "        friendships[node]=ls\n",
    "\n",
    "    # Initialize a dictionary with the intersections\n",
    "    inter={}\n",
    "\n",
    "    #Intersection between users\n",
    "    for j in friendships:\n",
    "        if (target != j) and (target not in friendships[j]) :\n",
    "            intersection = set(friendships.get(target)).intersection(set(friendships.get(j)))\n",
    "\n",
    "            # Adamic and Adar score calculation\n",
    "            sum = 0\n",
    "            for k in intersection :\n",
    "                if (k in friendships.keys()) and (friendships[k] != []) and len(friendships[k]) != 1:\n",
    "                    sum = sum+1/np.log(len(friendships[k]))\n",
    "\n",
    "            inter[j]=sum\n",
    "   \n",
    "    #Create a sorted list, in ties we take the smallest ID\n",
    "    lis=sorted(inter, key=inter.get, reverse=True)\n",
    "\n",
    "    #Final Result\n",
    "    return(lis[0:10]);"
   ]
  },
  {
   "cell_type": "code",
   "execution_count": 12,
   "metadata": {},
   "outputs": [
    {
     "data": {
      "text/plain": [
       "[6, 7, 11, 1, 3, 4, 8, 9, 10]"
      ]
     },
     "execution_count": 12,
     "metadata": {},
     "output_type": "execute_result"
    }
   ],
   "source": [
    "##### Test the code for the Sample\n",
    "users=[1,2,3,4,5,6,7,8,9,10,11]\n",
    "AdamicAdarFunction(users, test_data, 5)"
   ]
  },
  {
   "cell_type": "code",
   "execution_count": 12,
   "metadata": {},
   "outputs": [
    {
     "name": "stdout",
     "output_type": "stream",
     "text": [
      "The suggestions of 107 are: [513, 400, 559, 500, 492, 373, 378, 436, 524, 514]\n",
      "The suggestions of 1126 are: [916, 1238, 1750, 1230, 1004, 1791, 1530, 1172, 1570, 1597]\n",
      "The suggestions of 14 are: [2, 17, 140, 111, 162, 137, 333, 19, 44, 243]\n",
      "The suggestions of 35 are: [46, 68, 99, 131, 175, 177, 225, 227, 278, 321]\n"
     ]
    }
   ],
   "source": [
    "##### Test the code for the Original Dataset\n",
    "users=list(range(0,4038))\n",
    "\n",
    "print(\"The suggestions of 107 are:\",AdamicAdarFunction(users,data,107))\n",
    "print(\"The suggestions of 1126 are:\",AdamicAdarFunction(users,data,1126))\n",
    "print(\"The suggestions of 14 are:\",AdamicAdarFunction(users,data,14))\n",
    "print(\"The suggestions of 35 are:\",AdamicAdarFunction(users,data,35))"
   ]
  },
  {
   "cell_type": "markdown",
   "metadata": {},
   "source": [
    "### Recommending Friends with Leicht-Holme-Newman Index (bonus method)"
   ]
  },
  {
   "cell_type": "code",
   "execution_count": 32,
   "metadata": {},
   "outputs": [],
   "source": [
    "##### Create the function for Leicht Holme Newman method\n",
    "def LeichtHolmeNewman(users, dataset, target):\n",
    "    #Initialize\n",
    "    l=list()\n",
    "    friendships={}\n",
    "\n",
    "    #Create friendships dict\n",
    "    for node in users:\n",
    "        #Create a list with the friends of node\n",
    "        ls=dataset[dataset.node1 == node]['node2'].tolist()\n",
    "\n",
    "        #Create a dictionary with key the node and value the list\n",
    "        friendships[node]=ls\n",
    "\n",
    "    # Initialize a dictionary with the intersections\n",
    "    inter={}\n",
    "\n",
    "    #Intersection between users\n",
    "    for j in friendships:\n",
    "        if (target != j) and (target not in friendships[j]) :\n",
    "            intersection=(len(set(friendships.get(target)).intersection(set(friendships.get(j)))))\n",
    "            \n",
    "            #Calculate the k for j and target\n",
    "            k1=len(friendships.get(j))\n",
    "            k2=len(friendships.get(target))\n",
    "            \n",
    "            if (k1 !=0 and k2 !=0):\n",
    "                #Store the intersection in the list inter[]\n",
    "                inter[j]=intersection/(k1*k2)\n",
    "   \n",
    "    #Create a sorted list, in ties we take the smallest ID\n",
    "    lis=sorted(inter, key=inter.get, reverse=True)\n",
    "\n",
    "    #Final Result\n",
    "    return(lis[0:10]);"
   ]
  },
  {
   "cell_type": "code",
   "execution_count": 20,
   "metadata": {},
   "outputs": [
    {
     "data": {
      "text/plain": [
       "[1, 11, 6, 9, 7, 3, 4, 8]"
      ]
     },
     "execution_count": 20,
     "metadata": {},
     "output_type": "execute_result"
    }
   ],
   "source": [
    "##### Test the code for the Sample\n",
    "users=[1,2,3,4,5,6,7,8,9,10,11]\n",
    "LeichtHolmeNewman(users, test_data, 5)"
   ]
  },
  {
   "cell_type": "code",
   "execution_count": 14,
   "metadata": {},
   "outputs": [
    {
     "name": "stdout",
     "output_type": "stream",
     "text": [
      "The suggestions of 107 are: [11, 12, 15, 18, 37, 43, 74, 114, 209, 210]\n",
      "The suggestions of 1126 are: [911, 918, 1096, 1119, 1145, 1206, 1262, 1386, 1395, 1466]\n",
      "The suggestions of 14 are: [11, 12, 15, 18, 37, 43, 74, 114, 209, 210]\n",
      "The suggestions of 35 are: [11, 12, 15, 18, 37, 43, 74, 114, 209, 210]\n"
     ]
    }
   ],
   "source": [
    "##### Test the code for the Original Dataset\n",
    "users=list(range(0,4038))\n",
    "print(\"The suggestions of 107 are:\",LeichtHolmeNewman(users, data,107))\n",
    "print(\"The suggestions of 1126 are:\",LeichtHolmeNewman(users, data,1126))\n",
    "print(\"The suggestions of 14 are:\",LeichtHolmeNewman(users, data,14))\n",
    "print(\"The suggestions of 35 are:\",LeichtHolmeNewman(users, data,35))"
   ]
  },
  {
   "cell_type": "markdown",
   "metadata": {},
   "source": [
    "### Evaluation of the recommendation system"
   ]
  },
  {
   "cell_type": "code",
   "execution_count": 110,
   "metadata": {},
   "outputs": [
    {
     "name": "stdout",
     "output_type": "stream",
     "text": [
      "The average similarity of FoF & Jaccard is: 55.5 %\n",
      "The average similarity of FoF & Adamic Adar is: 90.75 %\n",
      "The average similarity of Adamic Adar & Jaccard is: 57.0 %\n"
     ]
    }
   ],
   "source": [
    "# Create users list\n",
    "users=list(range(0,4038))\n",
    "\n",
    "#Initialization\n",
    "s1=[]\n",
    "s2=[]\n",
    "s3=[]\n",
    "\n",
    "for i in list(range(100,4100,100)):\n",
    "    \n",
    "    #Run the functions\n",
    "    fofList=friendOfFriend(users, data,i)\n",
    "    JaccardList=JaccardCoefficient(users, data,i)\n",
    "    AdamicAdarList=AdamicAdarFunction(users, data,i)\n",
    "    \n",
    "    #Similarity Percentage of FoF and Jaccard\n",
    "    s1.append(len(set(fofList).intersection(set(JaccardList)))*10)\n",
    "    \n",
    "    #Similarity Percentage of FoF and Adamic and Adar\n",
    "    s2.append(len(set(fofList).intersection(set(AdamicAdarList)))*10)\n",
    "    \n",
    "    #Similarity Percentage of Jaccard and Adamic and Adar\n",
    "    s3.append(len(set(AdamicAdarList).intersection(set(JaccardList)))*10)\n",
    "\n",
    "#Average Similarity (%)\n",
    "print(\"The average similarity of FoF & Jaccard is:\",np.mean(s1),\"%\")\n",
    "print(\"The average similarity of FoF & Adamic Adar is:\",np.mean(s2),\"%\")\n",
    "print(\"The average similarity of Adamic Adar & Jaccard is:\",np.mean(s3),\"%\")"
   ]
  },
  {
   "cell_type": "markdown",
   "metadata": {},
   "source": [
    "### Forecast Recommendations"
   ]
  },
  {
   "cell_type": "markdown",
   "metadata": {},
   "source": [
    "#### Evaluation Function\n",
    "In this stage we have to estimate the quality of the recommendation methods. We create a function(evaluationFunction()) which computes the strength of the connection between two nodes. In more details, we insert two already friends of our network and the function removes this connection from the dataset. After the connection drops, the algorythm searches for every method if one of the two nodes (ex. F1) exists in the list of the second node (ex. F2). We do the same process in both F1 and F2. Also, we would like to mention if a node doesn't exist in the recommendation list of the other node we exclude this relationship.\n",
    "\n",
    "#### Score Calculation\n",
    "The score for each algorythm is calculated according to the position of the list.\n",
    "Also, we take the average value of the position for both F1 and F2. The higher the score is, the higher the quality of the algorythm.\n"
   ]
  },
  {
   "cell_type": "code",
   "execution_count": 34,
   "metadata": {},
   "outputs": [],
   "source": [
    "#Choose a pair F1 AND F2\n",
    "\n",
    "def evaluationFunction(dataset,users,F1,F2):\n",
    "\n",
    "    ####Remove the relationship\n",
    "    \n",
    "    #First we find the connection F1-F2\n",
    "    l1=dataset[dataset.node2 == F1].index\n",
    "    l2=dataset[dataset.node1 == F2 ].index\n",
    "    rm1=set(l1).intersection(set(l2))\n",
    "    \n",
    "    #Then we find the connection F2-F1\n",
    "    l1=dataset[dataset.node2 == F2 ].index\n",
    "    l2=dataset[dataset.node1 == F1].index\n",
    "    rm2=set(l1).intersection(set(l2))\n",
    "\n",
    "    #We create the union\n",
    "    rm=rm1.union(rm2)\n",
    "    \n",
    "    #Remove the elements of the set rm\n",
    "    for i in rm:\n",
    "        dataset=dataset.drop(i)\n",
    "    \n",
    "    ###FoF (friend-of-friend)\n",
    "    if ((F1 in friendOfFriend(users, dataset,F2)) and (F2 in friendOfFriend(users, dataset,F1))): \n",
    "        \n",
    "        #Compute the recommendations for F1\n",
    "        Friend1=10 - friendOfFriend(users, dataset,F1).index(F2)\n",
    "\n",
    "        #Compute the resommentdations for F2\n",
    "        Friend2=10 - friendOfFriend(users, dataset,F2).index(F1)\n",
    "\n",
    "\n",
    "        ####Compute the score\n",
    "        scoreFoF=(Friend1+Friend2)/2\n",
    "        \n",
    "    else:\n",
    "        scoreFoF= 0\n",
    "    \n",
    "    ###Jaccard\n",
    "    if ((F1 in JaccardCoefficient(users, dataset,F2)) and (F2 in JaccardCoefficient(users, dataset,F1))): \n",
    "        \n",
    "        #Compute the recommendations for F1\n",
    "        Friend1=10 - JaccardCoefficient(users, dataset,F1).index(F2)\n",
    "\n",
    "        #Compute the resommentdations for F2\n",
    "        Friend2=10 - JaccardCoefficient(users, dataset,F2).index(F1)\n",
    "\n",
    "        ####Check if either of these does not exist\n",
    "\n",
    "        ####Compute the score\n",
    "        scoreJaccard=(Friend1+Friend2)/2\n",
    "        \n",
    "    else:\n",
    "        scoreJaccard = 0\n",
    "    \n",
    "    ###AdamicAdar\n",
    "    if ((F1 in AdamicAdarFunction(users, dataset,F2)) and (F2 in AdamicAdarFunction(users, dataset,F1))):\n",
    "        \n",
    "        #Compute the recommendations for F1\n",
    "        Friend1=10 - AdamicAdarFunction(users, dataset,F1).index(F2)\n",
    "\n",
    "        #Compute the resommentdations for F2\n",
    "        Friend2=10 - AdamicAdarFunction(users, dataset,F2).index(F1)\n",
    "\n",
    "        ####Check if either of these does not exist\n",
    "\n",
    "        ####Compute the score\n",
    "        scoreAdamicAdar=(Friend1+Friend2)/2\n",
    "        \n",
    "    else:\n",
    "        scoreAdamicAdar = 0 \n",
    "          \n",
    " \n",
    "    return(scoreFoF,scoreJaccard,scoreAdamicAdar);"
   ]
  },
  {
   "cell_type": "markdown",
   "metadata": {},
   "source": [
    "#### Iteration Function\n",
    "\n",
    "In order to have more accurate results we should run the algorythm more than once. So, we create the algorythm (finalscore()) in order to recall the evaluation function many times. Speciffically, this function takes a random index from the original dataset. After we call the evaluation function in order to create a score for each relationship; the outputs of the evaluation function are stored in a list. Finally, after all that loops, we calculate the average score for each method."
   ]
  },
  {
   "cell_type": "code",
   "execution_count": 40,
   "metadata": {},
   "outputs": [],
   "source": [
    "#Function for iterations\n",
    "def finalScore(dataset,users, n):\n",
    "    eval_scores=[]\n",
    "    for l in list(range(0,n)):\n",
    "        \n",
    "        #Random F1-F2 Relationship\n",
    "        index=sample(range(len(dataset)),1)[0]\n",
    "        friend1=dataset.iloc[index].node1\n",
    "        friend2=dataset.iloc[index].node2\n",
    "        \n",
    "        evaluationOutput=evaluationFunction(dataset,users,friend1,friend2)\n",
    "        \n",
    "        if (evaluationOutput!= None):\n",
    "            eval_scores.append(evaluationFunction(dataset,users,friend1,friend2))\n",
    "        \n",
    "    #Final Score\n",
    "    if eval_scores != [] :\n",
    "        scores=eval_scores      \n",
    "        \n",
    "    return(scores);       "
   ]
  },
  {
   "cell_type": "code",
   "execution_count": 43,
   "metadata": {},
   "outputs": [],
   "source": [
    "#Create the scores for the test_data (for 100 iterations)\n",
    "users=[1,2,3,4,5,6,7,8,9,10,11]\n",
    "\n",
    "#We create a variable in order to call once the function and then print the scores\n",
    "score=finalScore(test_data,users,100)\n",
    "\n",
    "#Create a score table\n",
    "score_table=pd.DataFrame(score)\n",
    "\n",
    "#Add column names\n",
    "score_table.columns = [\"FoF Score\", \"Jaccard Score\", \"Adamic Adar Score\"]"
   ]
  },
  {
   "cell_type": "code",
   "execution_count": 44,
   "metadata": {},
   "outputs": [
    {
     "name": "stdout",
     "output_type": "stream",
     "text": [
      "    FoF Score  Jaccard Score  Adamic Adar Score\n",
      "0         9.5            8.5                9.5\n",
      "1         0.0            6.0                0.0\n",
      "2         6.0            7.5                6.0\n",
      "3        10.0           10.0               10.0\n",
      "4        10.0            0.0               10.0\n",
      "5         0.0            0.0                0.0\n",
      "6         9.5            0.0               10.0\n",
      "7         9.0           10.0                9.0\n",
      "8         8.0            9.5                8.0\n",
      "9         0.0            8.5                0.0\n",
      "10       10.0           10.0               10.0\n",
      "11        7.5            9.0                7.5\n",
      "12       10.0           10.0               10.0\n",
      "13        9.0            8.0                9.0\n",
      "14        8.0            8.5                8.0\n",
      "15        0.0            0.0                0.0\n",
      "16        9.0            8.0                9.0\n",
      "17        0.0            0.0                0.0\n",
      "18        4.5            0.0                4.5\n",
      "19        0.0            0.0                0.0\n",
      "20        7.5           10.0                7.5\n",
      "21        9.5           10.0                9.5\n",
      "22        9.0            9.0                9.0\n",
      "23       10.0           10.0               10.0\n",
      "24       10.0           10.0               10.0\n",
      "25        0.0            0.0                0.0\n",
      "26        0.0            7.5                0.0\n",
      "27        9.5            8.5                9.5\n",
      "28        0.0            0.0                0.0\n",
      "29       10.0           10.0               10.0\n",
      "..        ...            ...                ...\n",
      "70        0.0            0.0                0.0\n",
      "71        0.0            0.0                0.0\n",
      "72        9.5           10.0                9.5\n",
      "73        0.0            0.0                9.5\n",
      "74        0.0            7.5                0.0\n",
      "75        0.0            0.0                0.0\n",
      "76        0.0            0.0                0.0\n",
      "77        0.0            0.0                0.0\n",
      "78        0.0            0.0                0.0\n",
      "79        5.0            7.5                4.5\n",
      "80        8.0           10.0                8.0\n",
      "81        3.5            0.0                2.0\n",
      "82        3.0            3.0                3.0\n",
      "83        0.0            0.0                0.0\n",
      "84        7.5            7.0                7.5\n",
      "85        0.0            3.5                0.0\n",
      "86        9.0            9.5                9.5\n",
      "87        0.0            0.0                0.0\n",
      "88       10.0           10.0               10.0\n",
      "89        0.0            0.0                0.0\n",
      "90       10.0           10.0               10.0\n",
      "91        5.0            0.0                5.0\n",
      "92        8.0           10.0                9.0\n",
      "93        6.0            8.0                6.0\n",
      "94        0.0           10.0                0.0\n",
      "95        9.0            9.5                9.0\n",
      "96        0.0            7.0                2.0\n",
      "97        9.0           10.0                9.0\n",
      "98        5.0            5.5                5.5\n",
      "99        0.0            6.5                0.0\n",
      "\n",
      "[100 rows x 3 columns]\n"
     ]
    }
   ],
   "source": [
    "users=list(range(0,4038))\n",
    "\n",
    "#We create a variable in order to call once the function and then print the scores\n",
    "score=finalScore(data,users,100)\n",
    "\n",
    "#Create a score table\n",
    "score_table=pd.DataFrame(score)\n",
    "\n",
    "#Add column names\n",
    "score_table.columns = [\"FoF_Score\", \"Jaccard_Score\", \"Adamic_Adar_Score\"]\n",
    "\n",
    "# Final Print\n",
    "print(score_table)"
   ]
  },
  {
   "cell_type": "markdown",
   "metadata": {},
   "source": [
    "#### Note\n",
    "In the table we have zero when a node doesn't identify in the suggestion list so we have to exclude the zeros for each method and calculate the average score for each one"
   ]
  },
  {
   "cell_type": "markdown",
   "metadata": {},
   "source": [
    "### Average score"
   ]
  },
  {
   "cell_type": "code",
   "execution_count": 127,
   "metadata": {},
   "outputs": [
    {
     "name": "stdout",
     "output_type": "stream",
     "text": [
      "FoF score is:  8.12295081967213 /10\n",
      "Jaccard score is:  8.356060606060606 /10\n",
      "Adamic Adar score is:  8.15079365079365 /10\n"
     ]
    }
   ],
   "source": [
    "#Remove the zeros\n",
    "score1=score_table.FoF_Score[score_table.FoF_Score !=0].mean()\n",
    "score2=score_table.Jaccard_Score[score_table.Jaccard_Score !=0].mean()\n",
    "score3=score_table.Adamic_Adar_Score[score_table.Adamic_Adar_Score !=0].mean()\n",
    "\n",
    "#Final output\n",
    "print(\"FoF score is: \", score1,\"/10\")\n",
    "print(\"Jaccard score is: \", score2,\"/10\")\n",
    "print(\"Adamic Adar score is: \", score3,\"/10\")"
   ]
  },
  {
   "cell_type": "markdown",
   "metadata": {},
   "source": [
    "#### Comment the Score outputs"
   ]
  },
  {
   "cell_type": "markdown",
   "metadata": {},
   "source": [
    "As we can see the scoring of all functions is very close to each other but idependent of how many times we run the algorythm the sorting of the scores is the same. In other words, the Adamic Adar method has the higher score in all times, after Friend of Friend(FoF) method and after we have Jaccard method. In our view FoF method is a more generalized method that has decent results, if we take into consideration the calculation time. On the other hand the Adamic Adar method penalizes more the users that have a lot of friends than users that have less friends. This techique can better describes social network connections, and can have better results because is much closer on how people make a friend in a social network. The Jaccard distance is the less accurate metric for a reccomendation application."
   ]
  },
  {
   "cell_type": "markdown",
   "metadata": {},
   "source": [
    "## 2nd Evaluation System"
   ]
  },
  {
   "cell_type": "markdown",
   "metadata": {},
   "source": [
    "We crete an alternative evaluation system in order to incease the accuracy.Specifficaly, we take a target node and we remove one by one all the friends of him. Hence, we calculate the number of the friends that suggested and then we divide it with the total initial number of friends. This computations are hard intensive, so we do this procedure for 2-3 different targets."
   ]
  },
  {
   "cell_type": "code",
   "execution_count": 128,
   "metadata": {},
   "outputs": [],
   "source": [
    "#Function for iterations\n",
    "def finalScore2(dataset,users, n):\n",
    "    \n",
    "    eval_scores=[]\n",
    "    \n",
    "    #Create friendships dict\n",
    "    friendships={}\n",
    "    for node in users:\n",
    "        #Create a list with the friends of node\n",
    "        ls=dataset[dataset.node1 == node]['node2'].tolist()\n",
    "\n",
    "        #Create a dictionary with key the node and value the list\n",
    "        friendships[node]=ls\n",
    "\n",
    "    for l in list(range(0,n)):\n",
    "        \n",
    "        target=sample(users,1)[0] #take 1 random user\n",
    "        \n",
    "        #Initialize the scores\n",
    "        scorefof = 0\n",
    "        scoreJaccard = 0\n",
    "        scoreAdamicAdar = 0\n",
    "        friends=[]\n",
    "        \n",
    "        for i in friendships.get(target):\n",
    "            friends.append([target,i])\n",
    "            \n",
    "        for i in friends:\n",
    "            evaluationOutput=evaluationFunction(dataset,users,i[0],i[1])\n",
    "\n",
    "            if (evaluationOutput!= None):\n",
    "                if evaluationOutput[0]!= 0:\n",
    "                    scorefof +=1\n",
    "                if evaluationOutput[1]!= 0:\n",
    "                    scoreJaccard +=1\n",
    "                if evaluationOutput[2]!= 0:    \n",
    "                    scoreAdamicAdar +=1\n",
    "        \n",
    "        if len(friends) !=0 :\n",
    "            eval_scores.append([scorefof/len(friends),scoreJaccard/len(friends),scoreAdamicAdar/len(friends)])\n",
    "            \n",
    "        #Final Print\n",
    "        if eval_scores != [] :\n",
    "            #Calculate the average value\n",
    "            scores=np.mean(eval_scores,axis=0)\n",
    "        \n",
    "        \n",
    "    return([round(scores[0],3),round(scores[1],3),round(scores[2],3)]);  "
   ]
  },
  {
   "cell_type": "markdown",
   "metadata": {},
   "source": [
    "#### Final Score"
   ]
  },
  {
   "cell_type": "code",
   "execution_count": 132,
   "metadata": {},
   "outputs": [
    {
     "name": "stdout",
     "output_type": "stream",
     "text": [
      "FoF score is:  0.892 /10\n",
      "Jaccard score is:  0.824 /10\n",
      "Adamic Adar score is:  0.882 /10\n"
     ]
    }
   ],
   "source": [
    "#We create a variable in order to call once the function and then print the scores\n",
    "score2=finalScore2(data,users,2)\n",
    "\n",
    "print(\"FoF score is: \", score2[0],\"/10\")\n",
    "print(\"Jaccard score is: \", score2[1],\"/10\")\n",
    "print(\"Adamic Adar score is: \", score2[2],\"/10\")"
   ]
  }
 ],
 "metadata": {
  "kernelspec": {
   "display_name": "Python 3",
   "language": "python",
   "name": "python3"
  },
  "language_info": {
   "codemirror_mode": {
    "name": "ipython",
    "version": 3
   },
   "file_extension": ".py",
   "mimetype": "text/x-python",
   "name": "python",
   "nbconvert_exporter": "python",
   "pygments_lexer": "ipython3",
   "version": "3.6.4"
  }
 },
 "nbformat": 4,
 "nbformat_minor": 2
}
