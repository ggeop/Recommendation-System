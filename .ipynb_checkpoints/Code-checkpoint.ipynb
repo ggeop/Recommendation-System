{
 "cells": [
  {
   "cell_type": "markdown",
   "metadata": {},
   "source": [
    "# Recommendation System"
   ]
  },
  {
   "cell_type": "code",
   "execution_count": 441,
   "metadata": {},
   "outputs": [],
   "source": [
    "#Libraries\n",
    "import pandas as pd\n",
    "import numpy as np\n",
    "from random import *"
   ]
  },
  {
   "cell_type": "code",
   "execution_count": 442,
   "metadata": {},
   "outputs": [],
   "source": [
    "#Load the dataset\n",
    "data=pd.read_csv(\"facebook_combined.txt\",sep=\" \", header=None)\n",
    "\n",
    "#Add column names\n",
    "data.columns = [\"node1\", \"node2\"]"
   ]
  },
  {
   "cell_type": "code",
   "execution_count": 443,
   "metadata": {},
   "outputs": [],
   "source": [
    "#Transform the graph to undirected\n",
    "data2=pd.concat([data.node2,data.node1], axis=1)\n",
    "\n",
    "#Rename the columns in order to merge the columns\n",
    "data2.columns= [\"node1\", \"node2\"]\n",
    "data=data.append(data2)"
   ]
  },
  {
   "cell_type": "code",
   "execution_count": 373,
   "metadata": {},
   "outputs": [],
   "source": [
    "#Create a sample graph dataset\n",
    "test_data = pd.DataFrame([[5, 2], \n",
    "                       [9, 3],\n",
    "                       [9, 11],\n",
    "                       [3, 6],\n",
    "                       [4, 6],\n",
    "                       [5, 7],\n",
    "                       [1, 11],\n",
    "                       [6, 2],\n",
    "                       [7, 9],\n",
    "                       [8, 9],\n",
    "                       [5, 11],\n",
    "                       [6, 7],\n",
    "                       [6, 11],\n",
    "                       [7, 6],\n",
    "                       [2, 11],\n",
    "                       [11,2],\n",
    "                       [2, 5],\n",
    "                       [6, 2],\n",
    "                       [2, 7],\n",
    "                       [7, 2]],\n",
    "                      columns=[\"node1\", \"node2\"])"
   ]
  },
  {
   "cell_type": "markdown",
   "metadata": {},
   "source": [
    "#### Recommending friends using Common neighbors (friend-of-friend (FoF) method)"
   ]
  },
  {
   "cell_type": "code",
   "execution_count": 75,
   "metadata": {},
   "outputs": [],
   "source": [
    "##### Create the function for Common neighbors\n",
    "\n",
    "def friendOfFriend(users, dataset, target):\n",
    "    #Initialize\n",
    "    l=list()\n",
    "    friendships={}\n",
    "\n",
    "    #Create friendships dict\n",
    "    for node in users:\n",
    "        #Create a list with the friends of node\n",
    "        ls=dataset[dataset.node1 == node]['node2'].tolist()\n",
    "\n",
    "        #Create a dictionary with key the node and value the list\n",
    "        friendships[node]=ls\n",
    "\n",
    "    # Initialize a dictionary with the intersections\n",
    "    inter={}\n",
    "\n",
    "    #Intersection between users\n",
    "    for j in friendships:\n",
    "        if (target != j) and (target not in friendships[j]) :\n",
    "            intersection=(len(set(friendships.get(target)).intersection(set(friendships.get(j)))))\n",
    "            #print(intersection)\n",
    "            inter[j]=intersection\n",
    "   \n",
    "    #Create a sorted list, in ties we take the smallest ID\n",
    "    lis=sorted(inter, key=inter.get, reverse=True)\n",
    "\n",
    "    #Final Result\n",
    "    return(lis[0:10]);\n",
    "    "
   ]
  },
  {
   "cell_type": "code",
   "execution_count": 76,
   "metadata": {},
   "outputs": [
    {
     "data": {
      "text/plain": [
       "[6, 1, 9, 3, 4, 7, 8, 10, 11]"
      ]
     },
     "execution_count": 76,
     "metadata": {},
     "output_type": "execute_result"
    }
   ],
   "source": [
    "##### Test the code for the Sample\n",
    "users=[1,2,3,4,5,6,7,8,9,10,11]\n",
    "friendOfFriend(users, test_data, 5)"
   ]
  },
  {
   "cell_type": "code",
   "execution_count": 105,
   "metadata": {},
   "outputs": [
    {
     "data": {
      "text/plain": [
       "[67, 122, 186, 315, 25, 26, 272, 285, 332, 21]"
      ]
     },
     "execution_count": 105,
     "metadata": {},
     "output_type": "execute_result"
    }
   ],
   "source": [
    "##### Test the code for the Original Dataset\n",
    "users=list(range(0,4038))\n",
    "friendOfFriend(users, data,30)"
   ]
  },
  {
   "cell_type": "markdown",
   "metadata": {},
   "source": [
    "###  Recommending friends using Jaccard coefficient"
   ]
  },
  {
   "cell_type": "code",
   "execution_count": 119,
   "metadata": {},
   "outputs": [],
   "source": [
    "##### Create the function for Common neighbors using Jaccard coefficient\n",
    "\n",
    "def JaccardCoefficient(users, dataset, target):\n",
    "    #Initialize\n",
    "    l=list()\n",
    "    friendships={}\n",
    "\n",
    "    #Create friendships dict\n",
    "    for node in users:\n",
    "        #Create a list with the friends of node\n",
    "        ls=dataset[dataset.node1 == node]['node2'].tolist()\n",
    "\n",
    "        #Create a dictionary with key the node and value the list\n",
    "        friendships[node]=ls\n",
    "\n",
    "    # Initialize a dictionary with the intersections\n",
    "    inter={}\n",
    "\n",
    "    #Intersection between users\n",
    "    for j in friendships:\n",
    "        if (target != j) and (target not in friendships[j]) :\n",
    "            # Create union\n",
    "            union=len(set(friendships.get(target)).union(set(friendships.get(j))))\n",
    "            # Check for No zero denominator\n",
    "            if (union != 0) :\n",
    "                inter[j]=len(set(friendships.get(target)).intersection(set(friendships.get(j))))/union\n",
    "\n",
    "    #Create a sorted list, in ties we take the smallest ID\n",
    "    lis=sorted(inter, key=inter.get, reverse=True)\n",
    "\n",
    "    #Final Result\n",
    "    return(lis[0:10]);\n",
    "    "
   ]
  },
  {
   "cell_type": "code",
   "execution_count": 120,
   "metadata": {},
   "outputs": [
    {
     "data": {
      "text/plain": [
       "[6, 1, 11, 9, 3, 4, 7, 8, 10]"
      ]
     },
     "execution_count": 120,
     "metadata": {},
     "output_type": "execute_result"
    }
   ],
   "source": [
    "##### Test the code for the Sample\n",
    "users=[1,2,3,4,5,6,7,8,9,10,11]\n",
    "JaccardCoefficient(users, test_data, 5)"
   ]
  },
  {
   "cell_type": "code",
   "execution_count": 121,
   "metadata": {},
   "outputs": [
    {
     "data": {
      "text/plain": [
       "[276, 75, 88, 341, 133, 186, 297, 130, 79, 126]"
      ]
     },
     "execution_count": 121,
     "metadata": {},
     "output_type": "execute_result"
    }
   ],
   "source": [
    "##### Test the code for the Original Dataset\n",
    "users=list(range(0,4038))\n",
    "JaccardCoefficient(users, data,30)"
   ]
  },
  {
   "cell_type": "markdown",
   "metadata": {},
   "source": [
    "### Recommending friends using Adamic and Adar function"
   ]
  },
  {
   "cell_type": "code",
   "execution_count": 94,
   "metadata": {},
   "outputs": [],
   "source": [
    "def AdamicAdarFunction(users, dataset, target):\n",
    "    #Initialize\n",
    "    l=list()\n",
    "    friendships={}\n",
    "\n",
    "    #Create friendships dict\n",
    "    for node in users:\n",
    "        #Create a list with the friends of node\n",
    "        ls=dataset[dataset.node1 == node]['node2'].tolist()\n",
    "\n",
    "        #Create a dictionary with key the node and value the list\n",
    "        friendships[node]=ls\n",
    "\n",
    "    # Initialize a dictionary with the intersections\n",
    "    inter={}\n",
    "\n",
    "    #Intersection between users\n",
    "    for j in friendships:\n",
    "        if (target != j) and (target not in friendships[j]) :\n",
    "            intersection = set(friendships.get(target)).intersection(set(friendships.get(j)))\n",
    "\n",
    "            # Adamic and Adar score calculation\n",
    "            sum = 0\n",
    "            for k in intersection :\n",
    "                if ( k in friendships.keys()) and (friendships[k] != []):\n",
    "                    sum = sum+np.log(len(friendships[k]))\n",
    "\n",
    "            if (sum != 0) :        \n",
    "                inter[j]=1/sum\n",
    "            else:\n",
    "                inter[j]=0\n",
    "            \n",
    "    #Create a sorted list, in ties we take the smallest ID\n",
    "    lis=sorted(inter, key=inter.get, reverse=True)\n",
    "\n",
    "    #Final Result\n",
    "    return(lis[0:10]);"
   ]
  },
  {
   "cell_type": "code",
   "execution_count": 95,
   "metadata": {},
   "outputs": [
    {
     "data": {
      "text/plain": [
       "[6, 11, 1, 3, 4, 7, 8, 9, 10]"
      ]
     },
     "execution_count": 95,
     "metadata": {},
     "output_type": "execute_result"
    }
   ],
   "source": [
    "##### Test the code for the Sample\n",
    "users=[1,2,3,4,5,6,7,8,9,10,11]\n",
    "AdamicAdarFunction(users, test_data, 5)"
   ]
  },
  {
   "cell_type": "code",
   "execution_count": 109,
   "metadata": {},
   "outputs": [
    {
     "data": {
      "text/plain": [
       "[2, 4, 6, 8, 11, 12, 14, 15, 17, 18]"
      ]
     },
     "execution_count": 109,
     "metadata": {},
     "output_type": "execute_result"
    }
   ],
   "source": [
    "##### Test the code for the Original Dataset\n",
    "users=list(range(0,4038))\n",
    "AdamicAdarFunction(users, data,30)"
   ]
  },
  {
   "cell_type": "markdown",
   "metadata": {},
   "source": [
    "### Evaluation of the recommendation system"
   ]
  },
  {
   "cell_type": "code",
   "execution_count": 446,
   "metadata": {},
   "outputs": [],
   "source": [
    "# Create users list\n",
    "users=list(range(100,4100,100))\n",
    "data100=data[(data.node2%100 == 0) & (data.node1%100 == 0) & (data.node1 != 0) & (data.node2 != 0)]\n",
    "\n",
    "#Run the functions\n",
    "fofList=friendOfFriend(users, data100,100)\n",
    "JaccardList=JaccardCoefficient(users, data100,100)\n",
    "AdamicAdarList=AdamicAdarFunction(users, data100,100)\n",
    "\n",
    "#Similarity Percentage of FoF and Jaccard\n",
    "s1=len(set(fofList).intersection(set(JaccardList)))*10\n",
    "\n",
    "#Similarity Percentage of FoF and Adamic and Adar\n",
    "s2=len(set(fofList).intersection(set(AdamicAdarList)))*10\n",
    "\n",
    "#Similarity Percentage of Jaccard and Adamic and Adar\n",
    "s3=len(set(AdamicAdarList).intersection(set(JaccardList)))*10\n",
    "\n",
    "#Average Similarity\n",
    "avg_similarity=(s1+s2+s3)/3"
   ]
  },
  {
   "cell_type": "markdown",
   "metadata": {},
   "source": [
    "### Forecast Recommendations"
   ]
  },
  {
   "cell_type": "code",
   "execution_count": 409,
   "metadata": {},
   "outputs": [],
   "source": [
    "#Choose a pair F1 AND F2\n",
    "\n",
    "def evaluationFunction(dataset,users,F1,F2):\n",
    "\n",
    "    ####Remove the relationship\n",
    "    \n",
    "    #First we find the connection F1-F2\n",
    "    l1=dataset[dataset.node2 == 5 ].index\n",
    "    l2=dataset[dataset.node1 == 2 ].index\n",
    "    rm1=set(l1).intersection(set(l2))\n",
    "    \n",
    "    #Then we find the connection F2-F1\n",
    "    l1=dataset[dataset.node2 == 2 ].index\n",
    "    l2=dataset[dataset.node1 == 5 ].index\n",
    "    rm2=set(l1).intersection(set(l2))\n",
    "\n",
    "    #We create the union\n",
    "    rm=rm1.union(rm2)\n",
    "\n",
    "    #Remove the elements of the set rm\n",
    "    for i in rm:\n",
    "        dataset=dataset.drop(i)\n",
    "        \n",
    "    ### Check if the Suggestion lists for all functions   \n",
    "    \n",
    "    if (F1 not in friendOfFriend(users, dataset,F2)): \n",
    "        return(None);\n",
    "\n",
    "    if (F2 not in friendOfFriend(users, dataset,F1)): \n",
    "        return(None);\n",
    "\n",
    "    if (F1 not in JaccardCoefficient(users, dataset,F2)): \n",
    "        return(None);\n",
    "\n",
    "    if (F2 not in JaccardCoefficient(users, dataset,F1)): \n",
    "        return(None);\n",
    "        \n",
    "    if (F1 not in AdamicAdarFunction(users, dataset,F2)):\n",
    "        return(None);\n",
    "\n",
    "    if (F2 not in AdamicAdarFunction(users, dataset,F1)): \n",
    "        return(None);\n",
    "    \n",
    "    \n",
    "    ###FoF (friend-of-friend)\n",
    "        \n",
    "    #Compute the recommendations for F1\n",
    "    Friend1=friendOfFriend(users, dataset,F1).index(F2)+1\n",
    "    \n",
    "    #Compute the resommentdations for F2\n",
    "    Friend2=friendOfFriend(users, dataset,F2).index(F1)+1\n",
    "    \n",
    "\n",
    "    ####Compute the score\n",
    "    scoreFoF=(Friend1+Friend2)/2\n",
    "    \n",
    "    \n",
    "    ###Jaccard\n",
    "    #Compute the recommendations for F1\n",
    "    Friend1=JaccardCoefficient(users, dataset,F1).index(F2)+1\n",
    "    \n",
    "    #Compute the resommentdations for F2\n",
    "    Friend2=JaccardCoefficient(users, dataset,F2).index(F1)+1\n",
    "    \n",
    "    ####Check if either of these does not exist\n",
    "\n",
    "    ####Compute the score\n",
    "    scoreJaccard=(Friend1+Friend2)/2\n",
    "    \n",
    "    \n",
    "    ###AdamicAdar\n",
    "    #Compute the recommendations for F1\n",
    "    Friend1=AdamicAdarFunction(users, dataset,F1).index(F2)+1\n",
    "    \n",
    "    #Compute the resommentdations for F2\n",
    "    Friend2=AdamicAdarFunction(users, dataset,F2).index(F1)+1\n",
    "    \n",
    "    ####Check if either of these does not exist\n",
    "\n",
    "    ####Compute the score\n",
    "    scoreAdamicAdar=(Friend1+Friend2)/2\n",
    "    \n",
    "    return(scoreFoF,scoreJaccard,scoreAdamicAdar);"
   ]
  },
  {
   "cell_type": "code",
   "execution_count": 410,
   "metadata": {},
   "outputs": [],
   "source": [
    "#Function for iterations\n",
    "def finalScore(dataset,users, n):\n",
    "    eval_scores=[]\n",
    "    for l in list(range(0,n)):\n",
    "        friends=sample(users,2) #take 2 random users\n",
    "        if (evaluationFunction(dataset,users,friends[0],friends[1]) != None):\n",
    "            eval_scores.append(evaluationFunction(dataset,users,friends[0],friends[1]))\n",
    "        \n",
    "    return(eval_scores)       "
   ]
  },
  {
   "cell_type": "code",
   "execution_count": 440,
   "metadata": {},
   "outputs": [
    {
     "name": "stdout",
     "output_type": "stream",
     "text": [
      "FoF score is 3.9\n",
      "Jaccard score is 4.0\n",
      "Adamic Adar score is 4.4\n"
     ]
    }
   ],
   "source": [
    "#Create the scores!!\n",
    "users=[1,2,3,4,5,6,7,8,9,10,11]\n",
    "scores=np.mean(finalScore(test_data,users,6),axis=0)\n",
    "\n",
    "print(\"FoF score is\",scores[0])\n",
    "print(\"Jaccard score is\",scores[1])\n",
    "print(\"Adamic Adar score is\",scores[2])"
   ]
  },
  {
   "cell_type": "code",
   "execution_count": 445,
   "metadata": {},
   "outputs": [
    {
     "data": {
      "text/plain": [
       "[]"
      ]
     },
     "execution_count": 445,
     "metadata": {},
     "output_type": "execute_result"
    }
   ],
   "source": [
    "users=list(range(0,4038))\n",
    "finalScore(data,users,10)"
   ]
  },
  {
   "cell_type": "code",
   "execution_count": 462,
   "metadata": {},
   "outputs": [
    {
     "data": {
      "text/plain": [
       "[]"
      ]
     },
     "execution_count": 462,
     "metadata": {},
     "output_type": "execute_result"
    }
   ],
   "source": [
    "users=list(range(100,4100,100))\n",
    "data100=data[(data.node2%100 == 0) & (data.node1%100 == 0) & (data.node1 != 0) & (data.node2 != 0)]\n",
    "finalScore(data100,users,1)"
   ]
  }
 ],
 "metadata": {
  "kernelspec": {
   "display_name": "Python 3",
   "language": "python",
   "name": "python3"
  },
  "language_info": {
   "codemirror_mode": {
    "name": "ipython",
    "version": 3
   },
   "file_extension": ".py",
   "mimetype": "text/x-python",
   "name": "python",
   "nbconvert_exporter": "python",
   "pygments_lexer": "ipython3",
   "version": "3.6.4"
  }
 },
 "nbformat": 4,
 "nbformat_minor": 2
}
